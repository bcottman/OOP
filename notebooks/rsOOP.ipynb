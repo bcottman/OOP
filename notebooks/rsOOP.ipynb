{
 "cells": [
  {
   "cell_type": "markdown",
   "id": "3c2c499b",
   "metadata": {},
   "source": [
    "# OOP"
   ]
  },
  {
   "cell_type": "markdown",
   "id": "9dbc269c",
   "metadata": {},
   "source": [
    "## Classes, instance"
   ]
  },
  {
   "cell_type": "code",
   "execution_count": 2,
   "id": "8b05b6cc",
   "metadata": {
    "ExecuteTime": {
     "end_time": "2023-05-05T17:34:03.432492Z",
     "start_time": "2023-05-05T17:34:03.105Z"
    }
   },
   "outputs": [],
   "source": [
    "use std::fmt;\n",
    "use std::ops::{Div, Mul};\n",
    "use std::f64::consts::PI;\n",
    "\n",
    "pub struct Vector3d {\n",
    "    x: f64,\n",
    "    y: f64,\n",
    "    z: f64,\n",
    "}\n",
    "\n",
    "impl Vector3d {\n",
    "    pub fn new(x: f64, y: f64, z: f64) -> Self {\n",
    "        Vector3d { x, y, z }\n",
    "    }\n",
    "\n",
    "    pub fn magnitude(&self) -> f64 {\n",
    "        (self.x.powi(2) + self.y.powi(2) + self.z.powi(2)).sqrt()\n",
    "    }\n",
    "\n",
    "    pub fn normalize(&self) -> Self {\n",
    "        let magnitude = self.magnitude();\n",
    "        self / magnitude\n",
    "    }\n",
    "\n",
    "    pub fn angle(&self, other: &Vector3d) -> f64 {\n",
    "        let dot_product = self.dot(other);\n",
    "        let magnitudes_product = self.magnitude() * other.magnitude();\n",
    "        (dot_product / magnitudes_product).acos()\n",
    "    }\n",
    "\n",
    "    fn dot(&self, other: &Vector3d) -> f64 {\n",
    "        self.x * other.x + self.y * other.y + self.z * other.z\n",
    "    }\n",
    "\n",
    "    pub fn cross(&self, other: &Vector3d) -> Vector3d {\n",
    "        Vector3d {\n",
    "            x: self.y * other.z - self.z * other.y,\n",
    "            y: self.z * other.x - self.x * other.z,\n",
    "            z: self.x * other.y - self.y * other.x,\n",
    "        }\n",
    "    }\n",
    "}\n",
    "\n",
    "impl fmt::Display for Vector3d {\n",
    "    fn fmt(&self, f: &mut fmt::Formatter<'_>) -> fmt::Result {\n",
    "        write!(f, \"({}, {}, {})\", self.x, self.y, self.z)\n",
    "    }\n",
    "}\n",
    "\n",
    "impl fmt::Debug for Vector3d {\n",
    "    fn fmt(&self, f: &mut fmt::Formatter<'_>) -> fmt::Result {\n",
    "        write!(f, \"Vector3d({}, {}, {})\", self.x, self.y, self.z)\n",
    "    }\n",
    "}\n",
    "\n",
    "impl Div<f64> for &Vector3d {\n",
    "    type Output = Vector3d;\n",
    "\n",
    "    fn div(self, scalar: f64) -> Vector3d {\n",
    "        Vector3d {\n",
    "            x: self.x / scalar,\n",
    "            y: self.y / scalar,\n",
    "            z: self.z / scalar,\n",
    "        }\n",
    "    }\n",
    "}"
   ]
  },
  {
   "cell_type": "markdown",
   "id": "feb6ad46",
   "metadata": {},
   "source": [
    "The above code implement the Rust traitere's a breakdown of the code:\n",
    "\n",
    "\n"
   ]
  },
  {
   "cell_type": "code",
   "execution_count": 3,
   "id": "a70cdee8",
   "metadata": {
    "ExecuteTime": {
     "end_time": "2023-05-05T17:34:06.283253Z",
     "start_time": "2023-05-05T17:34:03.108Z"
    }
   },
   "outputs": [],
   "source": [
    "let v1v = Vector3d::new(3.3, 3.3, 0.1);\n",
    "let v2v =  Vector3d::new(3.344, 3.3, 5.0);\n",
    "let v3v = Vector3d::new(3.3, 3.3, 50.0);"
   ]
  },
  {
   "cell_type": "code",
   "execution_count": 4,
   "id": "daf92e33",
   "metadata": {
    "ExecuteTime": {
     "end_time": "2023-05-05T17:34:07.124361Z",
     "start_time": "2023-05-05T17:34:03.110Z"
    }
   },
   "outputs": [
    {
     "data": {
      "text/plain": [
       "Vector3d(3.3, 3.3, 0.1)"
      ]
     },
     "execution_count": 4,
     "metadata": {},
     "output_type": "execute_result"
    }
   ],
   "source": [
    "// non -rustic, notebook-ic\n",
    "v1v"
   ]
  },
  {
   "cell_type": "code",
   "execution_count": 5,
   "id": "492f4af9",
   "metadata": {
    "ExecuteTime": {
     "end_time": "2023-05-05T17:34:07.836857Z",
     "start_time": "2023-05-05T17:34:03.112Z"
    }
   },
   "outputs": [
    {
     "data": {
      "text/plain": [
       "Vector3d(0.7069445076832778, 0.7069445076832778, 0.02142256083888721)"
      ]
     },
     "execution_count": 5,
     "metadata": {},
     "output_type": "execute_result"
    }
   ],
   "source": [
    "v1v.normalize()"
   ]
  },
  {
   "cell_type": "code",
   "execution_count": 6,
   "id": "bcd284f2",
   "metadata": {
    "ExecuteTime": {
     "end_time": "2023-05-05T17:34:08.531783Z",
     "start_time": "2023-05-05T17:34:03.114Z"
    }
   },
   "outputs": [
    {
     "data": {
      "text/plain": [
       "0.0"
      ]
     },
     "execution_count": 6,
     "metadata": {},
     "output_type": "execute_result"
    }
   ],
   "source": [
    "v1v.angle(&v1v)"
   ]
  },
  {
   "cell_type": "code",
   "execution_count": 7,
   "id": "062d2d50",
   "metadata": {
    "ExecuteTime": {
     "end_time": "2023-05-05T17:34:09.227528Z",
     "start_time": "2023-05-05T17:34:03.115Z"
    }
   },
   "outputs": [
    {
     "data": {
      "text/plain": [
       "271.9252"
      ]
     },
     "execution_count": 7,
     "metadata": {},
     "output_type": "execute_result"
    }
   ],
   "source": [
    "v2v.dot(&v3v)"
   ]
  },
  {
   "cell_type": "markdown",
   "id": "85579ed1",
   "metadata": {},
   "source": [
    " ## inheritance"
   ]
  },
  {
   "cell_type": "markdown",
   "id": "241071dc",
   "metadata": {},
   "source": [
    "In Rust, inheritance is not supported the same way as it is in languages like Python, Java, or C++. Instead, Rust encourages composition and traits to achieve similar goals. In this case, you can create a PolarVector struct and store a Vector instance within it, and implement methods to work with polar coordinates.\n",
    "\n",
    "\n",
    "Rust code example for PolarVector3d in polar coordinates by using Composition of the struct Vector3d Rust code previously defined."
   ]
  },
  {
   "cell_type": "markdown",
   "id": "83b37423",
   "metadata": {
    "ExecuteTime": {
     "end_time": "2023-05-05T17:11:42.871305Z",
     "start_time": "2023-05-05T17:11:42.696Z"
    }
   },
   "source": []
  },
  {
   "cell_type": "code",
   "execution_count": null,
   "id": "78aed797",
   "metadata": {},
   "outputs": [],
   "source": []
  },
  {
   "cell_type": "markdown",
   "id": "0959d330",
   "metadata": {},
   "source": []
  },
  {
   "cell_type": "markdown",
   "id": "8b006e23",
   "metadata": {},
   "source": [
    "## Polymorphism "
   ]
  },
  {
   "cell_type": "markdown",
   "id": "a5ffa332",
   "metadata": {},
   "source": []
  },
  {
   "cell_type": "markdown",
   "id": "22ab4381",
   "metadata": {},
   "source": []
  },
  {
   "cell_type": "code",
   "execution_count": null,
   "id": "16423fe5",
   "metadata": {},
   "outputs": [],
   "source": []
  },
  {
   "cell_type": "code",
   "execution_count": null,
   "id": "89665f98",
   "metadata": {},
   "outputs": [],
   "source": []
  },
  {
   "cell_type": "code",
   "execution_count": null,
   "id": "a3ea32c7",
   "metadata": {},
   "outputs": [],
   "source": []
  },
  {
   "cell_type": "markdown",
   "id": "3a8e3b34",
   "metadata": {},
   "source": [
    "##  Encapsulation"
   ]
  },
  {
   "cell_type": "markdown",
   "id": "cb39df8b",
   "metadata": {},
   "source": []
  },
  {
   "cell_type": "markdown",
   "id": "7fa8f123",
   "metadata": {},
   "source": []
  },
  {
   "cell_type": "code",
   "execution_count": 8,
   "id": "e34353f2",
   "metadata": {
    "ExecuteTime": {
     "end_time": "2023-05-05T17:34:10.009238Z",
     "start_time": "2023-05-05T17:34:03.123Z"
    }
   },
   "outputs": [
    {
     "name": "stdout",
     "output_type": "stream",
     "text": [
      "(1, 2, 3)\n",
      "Cartesian coordinates of v1: (1.0, 2.0, 3.0)\n",
      "Updated Cartesian coordinates of v1: (4.0, 5.0, 6.0)\n"
     ]
    },
    {
     "data": {
      "text/plain": [
       "()"
      ]
     },
     "execution_count": 8,
     "metadata": {},
     "output_type": "execute_result"
    }
   ],
   "source": [
    "use std::fmt;\n",
    "\n",
    "struct Vector {\n",
    "    x: f64,\n",
    "    y: f64,\n",
    "    z: f64,\n",
    "}\n",
    "\n",
    "impl Vector {\n",
    "    pub fn new(x: f64, y: f64, z: f64) -> Self {\n",
    "        Vector { x, y, z }\n",
    "    }\n",
    "\n",
    "    pub fn get_coordinates(&self) -> (f64, f64, f64) {\n",
    "        (self.x, self.y, self.z)\n",
    "    }\n",
    "\n",
    "    pub fn set_coordinates(&mut self, x: f64, y: f64, z: f64) {\n",
    "        self.x = x;\n",
    "        self.y = y;\n",
    "        self.z = z;\n",
    "    }\n",
    "}\n",
    "\n",
    "impl fmt::Display for Vector {\n",
    "    fn fmt(&self, f: &mut fmt::Formatter) -> fmt::Result {\n",
    "        write!(f, \"({}, {}, {})\", self.x, self.y, self.z)\n",
    "    }\n",
    "}\n",
    "\n",
    "fn ex_encapsulation() {\n",
    "    let mut v1 = Vector::new(1.0, 2.0, 3.0);\n",
    "    println!(\"{}\", v1);\n",
    "\n",
    "    println!(\"Cartesian coordinates of v1: {:?}\", v1.get_coordinates());\n",
    "    v1.set_coordinates(4.0, 5.0, 6.0);\n",
    "    println!(\"Updated Cartesian coordinates of v1: {:?}\", v1.get_coordinates());\n",
    "}\n",
    "ex_encapsulation()"
   ]
  },
  {
   "cell_type": "markdown",
   "id": "738788e1",
   "metadata": {},
   "source": [
    "In this Rust implementation, we use a Vector struct with public fields x, y, and z. We create associated functions (methods) for initializing a new Vector instance (new), getting the coordinates (get_coordinates), and setting the coordinates (set_coordinates). We also implement the Display trait to format the vector as a string for displaying purposes."
   ]
  },
  {
   "cell_type": "markdown",
   "id": "9dcbac0e",
   "metadata": {},
   "source": [
    "## Overloading"
   ]
  },
  {
   "cell_type": "markdown",
   "id": "4f4e2cba",
   "metadata": {},
   "source": [
    "The Vector class in Rust implementation, demonstrating operator overloading for addition, subtraction, multiplication, and division. Note that in Rust, we use structs and traits instead of classes:"
   ]
  },
  {
   "cell_type": "markdown",
   "id": "31a0ab03",
   "metadata": {},
   "source": [
    "This code defines a Vector3d struct with the following properties:\n",
    "\n",
    "It has three floating-point members, x, y, and z.\n",
    "It has methods for calculating the magnitude, normalizing, and angle between two vectors.\n",
    "It implements the fmt::Display and fmt::Debug traits for printing the vector to a human-readable format.\n",
    "It implements the Div<f64> and Mul<f64> traits for overloading the / and * operators for vectors.\n",
    "The main function of the code creates two vectors, v1 and v2, and then performs various operations on them, such as addition, subtraction, multiplication, and division. The results of these operations are printed to the console.\n",
    "    \n",
    " Sources\n",
    "1. github.com/garfieldnate/smallpaint_rust_port subject to license (MIT)"
   ]
  },
  {
   "cell_type": "code",
   "execution_count": 9,
   "id": "c313d65a",
   "metadata": {
    "ExecuteTime": {
     "end_time": "2023-05-05T17:34:10.367509Z",
     "start_time": "2023-05-05T17:34:03.126Z"
    }
   },
   "outputs": [],
   "source": [
    "use std::ops::{Add, Sub, Mul, Div};\n",
    "\n",
    "#[derive(Debug, Clone, Copy)]\n",
    "struct Vector3d {\n",
    "    x: f64,\n",
    "    y: f64,\n",
    "    z: f64,\n",
    "}\n",
    "\n",
    "impl Add for Vector3d {\n",
    "    type Output = Vector3d;\n",
    "\n",
    "    fn add(self, other: Vector3d) -> Vector3d {\n",
    "        Vector3d {\n",
    "            x: self.x + other.x,\n",
    "            y: self.y + other.y,\n",
    "            z: self.z + other.z,\n",
    "        }\n",
    "    }\n",
    "}\n",
    "\n",
    "impl Sub for Vector3d {\n",
    "    type Output = Vector3d;\n",
    "\n",
    "    fn sub(self, other: Vector3d) -> Vector3d {\n",
    "        Vector3d {\n",
    "            x: self.x - other.x,\n",
    "            y: self.y - other.y,\n",
    "            z: self.z - other.z,\n",
    "        }\n",
    "    }\n",
    "}\n",
    "\n",
    "impl Mul<f64> for Vector3d {\n",
    "    type Output = Vector3d;\n",
    "\n",
    "    fn mul(self, scalar: f64) -> Vector3d {\n",
    "        Vector3d {\n",
    "            x: self.x * scalar,\n",
    "            y: self.y * scalar,\n",
    "            z: self.z * scalar,\n",
    "        }\n",
    "    }\n",
    "}\n",
    "\n",
    "impl Div<f64> for Vector3d {\n",
    "    type Output = Vector3d;\n",
    "\n",
    "    fn div(self, scalar: f64) -> Vector3d {\n",
    "        Vector3d {\n",
    "            x: self.x / scalar,\n",
    "            y: self.y / scalar,\n",
    "            z: self.z / scalar,\n",
    "        }\n",
    "    }\n",
    "}\n",
    "\n",
    "impl Vector3d {\n",
    "    fn cross(&self, other: &Vector3d) -> Vector3d {\n",
    "        Vector3d {\n",
    "            x: self.y * other.z - self.z * other.y,\n",
    "            y: self.z * other.x - self.x * other.z,\n",
    "            z: self.x * other.y - self.y * other.x, \n",
    "        }\n",
    "    }\n",
    "}\n",
    "\n"
   ]
  },
  {
   "cell_type": "code",
   "execution_count": 10,
   "id": "9d2ba13e",
   "metadata": {
    "ExecuteTime": {
     "end_time": "2023-05-05T17:34:11.282532Z",
     "start_time": "2023-05-05T17:34:03.128Z"
    }
   },
   "outputs": [
    {
     "name": "stdout",
     "output_type": "stream",
     "text": [
      "v1 + v2: Vector3d { x: 5.0, y: 7.0, z: 9.0 }\n",
      "v1 - v2: Vector3d { x: -3.0, y: -3.0, z: -3.0 }\n",
      "v1 * 3: Vector3d { x: 3.0, y: 6.0, z: 9.0 }\n",
      "v1 / 2: Vector3d { x: 0.5, y: 1.0, z: 1.5 }\n",
      "v1 x v2: Vector3d { x: -3.0, y: 6.0, z: -3.0 }\n"
     ]
    },
    {
     "data": {
      "text/plain": [
       "()"
      ]
     },
     "execution_count": 10,
     "metadata": {},
     "output_type": "execute_result"
    }
   ],
   "source": [
    "fn ex_encap_vector() {\n",
    "    let v1 = Vector3d { x: 1.0, y: 2.0, z: 3.0 };\n",
    "    let v2 = Vector3d { x: 4.0, y: 5.0, z: 6.0 };\n",
    "\n",
    "    println!(\"v1 + v2: {:?}\", v1 + v2);\n",
    "    println!(\"v1 - v2: {:?}\", v1 - v2);\n",
    "    println!(\"v1 * 3: {:?}\", v1 * 3.0);\n",
    "    println!(\"v1 / 2: {:?}\", v1 / 2.0);\n",
    "    println!(\"v1 x v2: {:?}\", v1.cross(&v2));\n",
    "}\n",
    "\n",
    "ex_encap_vector()"
   ]
  },
  {
   "cell_type": "markdown",
   "id": "3e32b685",
   "metadata": {
    "ExecuteTime": {
     "start_time": "2023-04-22T16:30:22.759Z"
    }
   },
   "source": [
    "This Rust implementation uses a Vector struct to represent a 3D vector and implements traits for the Add, Sub, Mul, and Div operators. The Mul and Div traits are implemented for scalar multiplication and division. The cross method calculates the cross product of two vectors."
   ]
  },
  {
   "cell_type": "code",
   "execution_count": null,
   "id": "fe05deec",
   "metadata": {},
   "outputs": [],
   "source": []
  }
 ],
 "metadata": {
  "hide_input": false,
  "kernelspec": {
   "display_name": "Rust",
   "language": "rust",
   "name": "rust"
  },
  "language_info": {
   "codemirror_mode": "rust",
   "file_extension": ".rs",
   "mimetype": "text/rust",
   "name": "Rust",
   "pygment_lexer": "rust",
   "version": ""
  },
  "toc": {
   "base_numbering": 1,
   "nav_menu": {},
   "number_sections": true,
   "sideBar": true,
   "skip_h1_title": false,
   "title_cell": "Table of Contents",
   "title_sidebar": "Contents",
   "toc_cell": false,
   "toc_position": {
    "height": "calc(100% - 180px)",
    "left": "10px",
    "top": "150px",
    "width": "237.797px"
   },
   "toc_section_display": true,
   "toc_window_display": true
  }
 },
 "nbformat": 4,
 "nbformat_minor": 5
}
