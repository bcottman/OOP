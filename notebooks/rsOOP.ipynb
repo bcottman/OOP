{
 "cells": [
  {
   "cell_type": "markdown",
   "id": "3c2c499b",
   "metadata": {},
   "source": [
    "# OOP"
   ]
  },
  {
   "cell_type": "markdown",
   "id": "9dbc269c",
   "metadata": {},
   "source": [
    "## Classes, instance"
   ]
  },
  {
   "cell_type": "code",
   "execution_count": 8,
   "id": "8b05b6cc",
   "metadata": {
    "ExecuteTime": {
     "end_time": "2023-05-09T18:05:10.631234Z",
     "start_time": "2023-05-09T18:05:10.222Z"
    }
   },
   "outputs": [],
   "source": [
    "use std::fmt;\n",
    "use std::ops::{Div, Mul};\n",
    "use std::f64::consts::PI;\n",
    "\n",
    "pub struct Vector3d {\n",
    "    x: f64,\n",
    "    y: f64,\n",
    "    z: f64,\n",
    "}\n",
    "\n",
    "impl Vector3d {\n",
    "    pub fn new(x: f64, y: f64, z: f64) -> Self {\n",
    "        Vector3d { x, y, z }\n",
    "    }\n",
    "\n",
    "    pub fn magnitude(&self) -> f64 {\n",
    "        (self.x.powi(2) + self.y.powi(2) + self.z.powi(2)).sqrt()\n",
    "    }\n",
    "\n",
    "    pub fn normalize(&self) -> Self {\n",
    "        let magnitude = self.magnitude();\n",
    "        self / magnitude\n",
    "    }\n",
    "\n",
    "    pub fn angle(&self, other: &Vector3d) -> f64 {\n",
    "        let dot_product = self.dot(other);\n",
    "        let magnitudes_product = self.magnitude() * other.magnitude();\n",
    "        (dot_product / magnitudes_product).acos()\n",
    "    }\n",
    "\n",
    "    fn dot(&self, other: &Vector3d) -> f64 {\n",
    "        self.x * other.x + self.y * other.y + self.z * other.z\n",
    "    }\n",
    "\n",
    "    pub fn cross(&self, other: &Vector3d) -> Vector3d {\n",
    "        Vector3d {\n",
    "            x: self.y * other.z - self.z * other.y,\n",
    "            y: self.z * other.x - self.x * other.z,\n",
    "            z: self.x * other.y - self.y * other.x,\n",
    "        }\n",
    "    }\n",
    "}\n",
    "\n",
    "impl fmt::Display for Vector3d {\n",
    "    fn fmt(&self, f: &mut fmt::Formatter<'_>) -> fmt::Result {\n",
    "        write!(f, \"({}, {}, {})\", self.x, self.y, self.z)\n",
    "    }\n",
    "}\n",
    "\n",
    "impl fmt::Debug for Vector3d {\n",
    "    fn fmt(&self, f: &mut fmt::Formatter<'_>) -> fmt::Result {\n",
    "        write!(f, \"Vector3d({}, {}, {})\", self.x, self.y, self.z)\n",
    "    }\n",
    "}\n",
    "\n",
    "impl Div<f64> for &Vector3d {\n",
    "    type Output = Vector3d;\n",
    "\n",
    "    fn div(self, scalar: f64) -> Vector3d {\n",
    "        Vector3d {\n",
    "            x: self.x / scalar,\n",
    "            y: self.y / scalar,\n",
    "            z: self.z / scalar,\n",
    "        }\n",
    "    }\n",
    "}"
   ]
  },
  {
   "cell_type": "markdown",
   "id": "feb6ad46",
   "metadata": {},
   "source": [
    "The above code implement the Rust traitere's a breakdown of the code:\n",
    "\n",
    "\n"
   ]
  },
  {
   "cell_type": "code",
   "execution_count": 9,
   "id": "a70cdee8",
   "metadata": {
    "ExecuteTime": {
     "end_time": "2023-05-09T18:05:13.803166Z",
     "start_time": "2023-05-09T18:05:10.225Z"
    }
   },
   "outputs": [],
   "source": [
    "let v1v = Vector3d::new(3.3, 3.3, 0.1);\n",
    "let v2v =  Vector3d::new(3.344, 3.3, 5.0);\n",
    "let v3v = Vector3d::new(3.3, 3.3, 50.0);"
   ]
  },
  {
   "cell_type": "code",
   "execution_count": 10,
   "id": "daf92e33",
   "metadata": {
    "ExecuteTime": {
     "end_time": "2023-05-09T18:05:14.719322Z",
     "start_time": "2023-05-09T18:05:10.227Z"
    }
   },
   "outputs": [
    {
     "data": {
      "text/plain": [
       "Vector3d(3.3, 3.3, 0.1)"
      ]
     },
     "execution_count": 10,
     "metadata": {},
     "output_type": "execute_result"
    }
   ],
   "source": [
    "// non -rustic, notebook-ic\n",
    "v1v"
   ]
  },
  {
   "cell_type": "code",
   "execution_count": 11,
   "id": "492f4af9",
   "metadata": {
    "ExecuteTime": {
     "end_time": "2023-05-09T18:05:15.830995Z",
     "start_time": "2023-05-09T18:05:10.229Z"
    }
   },
   "outputs": [
    {
     "data": {
      "text/plain": [
       "Vector3d(0.7069445076832778, 0.7069445076832778, 0.02142256083888721)"
      ]
     },
     "execution_count": 11,
     "metadata": {},
     "output_type": "execute_result"
    }
   ],
   "source": [
    "v1v.normalize()"
   ]
  },
  {
   "cell_type": "code",
   "execution_count": 12,
   "id": "bcd284f2",
   "metadata": {
    "ExecuteTime": {
     "end_time": "2023-05-09T18:05:16.588178Z",
     "start_time": "2023-05-09T18:05:10.231Z"
    }
   },
   "outputs": [
    {
     "data": {
      "text/plain": [
       "0.0"
      ]
     },
     "execution_count": 12,
     "metadata": {},
     "output_type": "execute_result"
    }
   ],
   "source": [
    "v1v.angle(&v1v)"
   ]
  },
  {
   "cell_type": "code",
   "execution_count": 13,
   "id": "062d2d50",
   "metadata": {
    "ExecuteTime": {
     "end_time": "2023-05-09T18:05:17.336834Z",
     "start_time": "2023-05-09T18:05:10.233Z"
    }
   },
   "outputs": [
    {
     "data": {
      "text/plain": [
       "271.9252"
      ]
     },
     "execution_count": 13,
     "metadata": {},
     "output_type": "execute_result"
    }
   ],
   "source": [
    "v2v.dot(&v3v)"
   ]
  },
  {
   "cell_type": "markdown",
   "id": "85579ed1",
   "metadata": {},
   "source": [
    " ## inheritance"
   ]
  },
  {
   "cell_type": "markdown",
   "id": "241071dc",
   "metadata": {},
   "source": [
    "In Rust, inheritance is not supported the same way as it is in languages like Python, Java, or C++. Instead, Rust encourages composition and traits to achieve similar goals. In this case, you can create a PolarVector struct and store a Vector instance within it, and implement methods to work with polar coordinates.\n",
    "\n",
    "\n",
    "Rust code example for PolarVector3d in polar coordinates by using Composition of the struct Vector3d Rust code previously defined."
   ]
  },
  {
   "cell_type": "markdown",
   "id": "83b37423",
   "metadata": {
    "ExecuteTime": {
     "end_time": "2023-05-05T17:11:42.871305Z",
     "start_time": "2023-05-05T17:11:42.696Z"
    }
   },
   "source": []
  },
  {
   "cell_type": "code",
   "execution_count": 14,
   "id": "78aed797",
   "metadata": {
    "ExecuteTime": {
     "end_time": "2023-05-09T18:05:17.678264Z",
     "start_time": "2023-05-09T18:05:10.237Z"
    }
   },
   "outputs": [],
   "source": [
    "use std::fmt;\n",
    "\n",
    "struct Vector3d {\n",
    "    x: f64,\n",
    "    y: f64,\n",
    "    z: f64,\n",
    "}\n",
    "\n",
    "impl fmt::Debug for Vector3d {\n",
    "    fn fmt(&self, f: &mut fmt::Formatter<'_>) -> fmt::Result {\n",
    "        write!(\n",
    "            f,\n",
    "            \"Vector3d {{ x: {}, y: {}, z: {} }}\",\n",
    "            self.x, self.y, self.z\n",
    "        )\n",
    "    }\n",
    "}\n",
    "\n"
   ]
  },
  {
   "cell_type": "code",
   "execution_count": 15,
   "id": "16423fe5",
   "metadata": {
    "ExecuteTime": {
     "end_time": "2023-05-09T18:05:17.985811Z",
     "start_time": "2023-05-09T18:05:10.239Z"
    }
   },
   "outputs": [],
   "source": [
    "#[derive(Debug)]\n",
    "struct Vector3d {\n",
    "    x: f64,\n",
    "    y: f64,\n",
    "    z: f64,\n",
    "}"
   ]
  },
  {
   "cell_type": "markdown",
   "id": "3a8e3b34",
   "metadata": {
    "heading_collapsed": true
   },
   "source": [
    "##  Encapsulation"
   ]
  },
  {
   "cell_type": "code",
   "execution_count": 16,
   "id": "e34353f2",
   "metadata": {
    "ExecuteTime": {
     "end_time": "2023-05-09T18:05:18.953286Z",
     "start_time": "2023-05-09T18:05:10.241Z"
    },
    "hidden": true
   },
   "outputs": [
    {
     "name": "stdout",
     "output_type": "stream",
     "text": [
      "(1, 2, 3)\n",
      "Cartesian coordinates of v1: (1.0, 2.0, 3.0)\n",
      "Updated Cartesian coordinates of v1: (4.0, 5.0, 6.0)\n"
     ]
    },
    {
     "data": {
      "text/plain": [
       "()"
      ]
     },
     "execution_count": 16,
     "metadata": {},
     "output_type": "execute_result"
    }
   ],
   "source": [
    "use std::fmt;\n",
    "\n",
    "struct Vector {\n",
    "    x: f64,\n",
    "    y: f64,\n",
    "    z: f64,\n",
    "}\n",
    "\n",
    "impl Vector {\n",
    "    pub fn new(x: f64, y: f64, z: f64) -> Self {\n",
    "        Vector { x, y, z }\n",
    "    }\n",
    "\n",
    "    pub fn get_coordinates(&self) -> (f64, f64, f64) {\n",
    "        (self.x, self.y, self.z)\n",
    "    }\n",
    "\n",
    "    pub fn set_coordinates(&mut self, x: f64, y: f64, z: f64) {\n",
    "        self.x = x;\n",
    "        self.y = y;\n",
    "        self.z = z;\n",
    "    }\n",
    "}\n",
    "\n",
    "impl fmt::Display for Vector {\n",
    "    fn fmt(&self, f: &mut fmt::Formatter) -> fmt::Result {\n",
    "        write!(f, \"({}, {}, {})\", self.x, self.y, self.z)\n",
    "    }\n",
    "}\n",
    "\n",
    "fn ex_encapsulation() {\n",
    "    let mut v1 = Vector::new(1.0, 2.0, 3.0);\n",
    "    println!(\"{}\", v1);\n",
    "\n",
    "    println!(\"Cartesian coordinates of v1: {:?}\", v1.get_coordinates());\n",
    "    v1.set_coordinates(4.0, 5.0, 6.0);\n",
    "    println!(\"Updated Cartesian coordinates of v1: {:?}\", v1.get_coordinates());\n",
    "}\n",
    "ex_encapsulation()"
   ]
  },
  {
   "cell_type": "markdown",
   "id": "738788e1",
   "metadata": {
    "hidden": true
   },
   "source": [
    "In this Rust implementation, we use a Vector struct with public fields x, y, and z. We create associated functions (methods) for initializing a new Vector instance (new), getting the coordinates (get_coordinates), and setting the coordinates (set_coordinates). We also implement the Display trait to format the vector as a string for displaying purposes."
   ]
  },
  {
   "cell_type": "markdown",
   "id": "9dcbac0e",
   "metadata": {
    "heading_collapsed": true
   },
   "source": [
    "## Overloading"
   ]
  },
  {
   "cell_type": "markdown",
   "id": "4f4e2cba",
   "metadata": {
    "hidden": true
   },
   "source": [
    "The Vector class in Rust implementation, demonstrating operator overloading for addition, subtraction, multiplication, and division. Note that in Rust, we use structs and traits instead of classes:"
   ]
  },
  {
   "cell_type": "markdown",
   "id": "31a0ab03",
   "metadata": {
    "hidden": true
   },
   "source": [
    "This code defines a Vector3d struct with the following properties:\n",
    "\n",
    "It has three floating-point members, x, y, and z.\n",
    "It has methods for calculating the magnitude, normalizing, and angle between two vectors.\n",
    "It implements the fmt::Display and fmt::Debug traits for printing the vector to a human-readable format.\n",
    "It implements the Div<f64> and Mul<f64> traits for overloading the / and * operators for vectors.\n",
    "The main function of the code creates two vectors, v1 and v2, and then performs various operations on them, such as addition, subtraction, multiplication, and division. The results of these operations are printed to the console.\n",
    "    \n"
   ]
  },
  {
   "cell_type": "code",
   "execution_count": 17,
   "id": "c313d65a",
   "metadata": {
    "ExecuteTime": {
     "end_time": "2023-05-09T18:05:19.330332Z",
     "start_time": "2023-05-09T18:05:10.244Z"
    },
    "hidden": true
   },
   "outputs": [],
   "source": [
    "use std::ops::{Add, Sub, Mul, Div};\n",
    "\n",
    "#[derive(Debug, Clone, Copy)]\n",
    "struct Vector3d {\n",
    "    x: f64,\n",
    "    y: f64,\n",
    "    z: f64,\n",
    "}\n",
    "\n",
    "impl Add for Vector3d {\n",
    "    type Output = Vector3d;\n",
    "\n",
    "    fn add(self, other: Vector3d) -> Vector3d {\n",
    "        Vector3d {\n",
    "            x: self.x + other.x,\n",
    "            y: self.y + other.y,\n",
    "            z: self.z + other.z,\n",
    "        }\n",
    "    }\n",
    "}\n",
    "\n",
    "impl Sub for Vector3d {\n",
    "    type Output = Vector3d;\n",
    "\n",
    "    fn sub(self, other: Vector3d) -> Vector3d {\n",
    "        Vector3d {\n",
    "            x: self.x - other.x,\n",
    "            y: self.y - other.y,\n",
    "            z: self.z - other.z,\n",
    "        }\n",
    "    }\n",
    "}\n",
    "\n",
    "impl Mul<f64> for Vector3d {\n",
    "    type Output = Vector3d;\n",
    "\n",
    "    fn mul(self, scalar: f64) -> Vector3d {\n",
    "        Vector3d {\n",
    "            x: self.x * scalar,\n",
    "            y: self.y * scalar,\n",
    "            z: self.z * scalar,\n",
    "        }\n",
    "    }\n",
    "}\n",
    "\n",
    "impl Mul<Vector3d> for Vector3d {\n",
    "    type Output = Vector3d;\n",
    "\n",
    "    fn mul(self, other: Vector3d) -> Vector3d {\n",
    "        Vector3d {\n",
    "            x: self.x * other.x,\n",
    "            y: self.y * other.y,\n",
    "            z: self.z * other.z,\n",
    "        }\n",
    "    }\n",
    "}\n",
    "\n",
    "impl Div<f64> for Vector3d {\n",
    "    type Output = Vector3d;\n",
    "\n",
    "    fn div(self, scalar: f64) -> Vector3d {\n",
    "        Vector3d {\n",
    "            x: self.x / scalar,\n",
    "            y: self.y / scalar,\n",
    "            z: self.z / scalar,\n",
    "        }\n",
    "    }\n",
    "}\n",
    "\n",
    "impl Div<Vector3d> for Vector3d {\n",
    "    type Output = Vector3d;\n",
    "\n",
    "    fn div(self, other: Vector3d) -> Vector3d {\n",
    "        Vector3d {\n",
    "            x: self.x / other.x,\n",
    "            y: self.y / other.y,\n",
    "            z: self.z / other.z,\n",
    "        }\n",
    "    }\n",
    "}\n",
    "\n",
    "impl Vector3d {\n",
    "    fn cross(&self, other: &Vector3d) -> Vector3d {\n",
    "        Vector3d {\n",
    "            x: self.y * other.z - self.z * other.y,\n",
    "            y: self.z * other.x - self.x * other.z,\n",
    "            z: self.x * other.y - self.y * other.x, \n",
    "        }\n",
    "    }\n",
    "}"
   ]
  },
  {
   "cell_type": "code",
   "execution_count": 18,
   "id": "9d2ba13e",
   "metadata": {
    "ExecuteTime": {
     "end_time": "2023-05-09T18:05:20.322150Z",
     "start_time": "2023-05-09T18:05:10.246Z"
    },
    "hidden": true
   },
   "outputs": [
    {
     "name": "stdout",
     "output_type": "stream",
     "text": [
      "v1 + v2: Vector3d { x: 5.0, y: 7.0, z: 9.0 }\n",
      "v1 - v2: Vector3d { x: -3.0, y: -3.0, z: -3.0 }\n",
      "v1 * 3: Vector3d { x: 3.0, y: 6.0, z: 9.0 }\n",
      "v1 * v2: Vector3d { x: 4.0, y: 10.0, z: 18.0 }\n",
      "v1 / 2: Vector3d { x: 0.5, y: 1.0, z: 1.5 }\n",
      "v1 / v2: Vector3d { x: 0.25, y: 0.4, z: 0.5 }\n",
      "v1 x v2: Vector3d { x: -3.0, y: 6.0, z: -3.0 }\n"
     ]
    },
    {
     "data": {
      "text/plain": [
       "()"
      ]
     },
     "execution_count": 18,
     "metadata": {},
     "output_type": "execute_result"
    }
   ],
   "source": [
    "fn ex_overload_vector() {\n",
    "    let v1 = Vector3d { x: 1.0, y: 2.0, z: 3.0 };\n",
    "    let v2 = Vector3d { x: 4.0, y: 5.0, z: 6.0 };\n",
    "\n",
    "    println!(\"v1 + v2: {:?}\", v1 + v2);\n",
    "    println!(\"v1 - v2: {:?}\", v1 - v2);\n",
    "    println!(\"v1 * 3: {:?}\", v1 * 3.0);\n",
    "    println!(\"v1 * v2: {:?}\", v1 * v2);\n",
    "    println!(\"v1 / 2: {:?}\", v1 / 2.0);\n",
    "    println!(\"v1 / v2: {:?}\", v1 / v2);\n",
    "    println!(\"v1 x v2: {:?}\", v1.cross(&v2));\n",
    "}\n",
    "\n",
    "ex_overload_vector()"
   ]
  },
  {
   "cell_type": "markdown",
   "id": "3e32b685",
   "metadata": {
    "ExecuteTime": {
     "start_time": "2023-04-22T16:30:22.759Z"
    },
    "hidden": true
   },
   "source": [
    "This Rust implementation uses a Vector struct to represent a 3D vector and implements traits for the Add, Sub, Mul, and Div operators. The Mul and Div traits are implemented for scalar multiplication and division. The cross method calculates the cross product of two vectors."
   ]
  },
  {
   "cell_type": "markdown",
   "id": "0e5dad2a",
   "metadata": {},
   "source": [
    "## Polymorphism "
   ]
  },
  {
   "cell_type": "markdown",
   "id": "0ee76932",
   "metadata": {},
   "source": [
    "### Dynamic"
   ]
  },
  {
   "cell_type": "markdown",
   "id": "ec26a913",
   "metadata": {},
   "source": [
    "The Add and Sub traits were used to define the add() and sub() methods for the Vector3d struct. These methods take two Vector3d instances as arguments and return a new Vector3d instance.\n",
    "The Add and Sub traits are generic traits. This means that they can be used with any type that implements them."
   ]
  },
  {
   "cell_type": "code",
   "execution_count": 19,
   "id": "5b5b5230",
   "metadata": {
    "ExecuteTime": {
     "end_time": "2023-05-09T18:05:20.545500Z",
     "start_time": "2023-05-09T18:05:10.249Z"
    }
   },
   "outputs": [
    {
     "ename": "Error",
     "evalue": "cannot multiply `Vector3d` by `{float}`",
     "output_type": "error",
     "traceback": [
      "\u001b[31m[E0369] Error:\u001b[0m cannot multiply `Vector3d` by `{float}`",
      "   \u001b[38;5;246m╭\u001b[0m\u001b[38;5;246m─\u001b[0m\u001b[38;5;246m[\u001b[0mcommand_19:1:1\u001b[38;5;246m]\u001b[0m",
      "   \u001b[38;5;246m│\u001b[0m",
      " \u001b[38;5;246m4 │\u001b[0m \u001b[38;5;54ms\u001b[0m\u001b[38;5;54mt\u001b[0m\u001b[38;5;54mr\u001b[0m\u001b[38;5;54mu\u001b[0m\u001b[38;5;54mc\u001b[0m\u001b[38;5;54mt\u001b[0m\u001b[38;5;54m \u001b[0m\u001b[38;5;54mV\u001b[0m\u001b[38;5;54me\u001b[0m\u001b[38;5;54mc\u001b[0m\u001b[38;5;54mt\u001b[0m\u001b[38;5;54mo\u001b[0m\u001b[38;5;54mr\u001b[0m\u001b[38;5;54m3\u001b[0m\u001b[38;5;54md\u001b[0m\u001b[38;5;249m \u001b[0m\u001b[38;5;249m{\u001b[0m",
      " \u001b[38;5;246m  ·\u001b[0m \u001b[38;5;54m─\u001b[0m\u001b[38;5;54m─\u001b[0m\u001b[38;5;54m─\u001b[0m\u001b[38;5;54m─\u001b[0m\u001b[38;5;54m─\u001b[0m\u001b[38;5;54m─\u001b[0m\u001b[38;5;54m─\u001b[0m\u001b[38;5;54m┬\u001b[0m\u001b[38;5;54m─\u001b[0m\u001b[38;5;54m─\u001b[0m\u001b[38;5;54m─\u001b[0m\u001b[38;5;54m─\u001b[0m\u001b[38;5;54m─\u001b[0m\u001b[38;5;54m─\u001b[0m\u001b[38;5;54m─\u001b[0m  ",
      " \u001b[38;5;246m  ·\u001b[0m        \u001b[38;5;54m╰\u001b[0m\u001b[38;5;54m─\u001b[0m\u001b[38;5;54m─\u001b[0m\u001b[38;5;54m─\u001b[0m\u001b[38;5;54m─\u001b[0m\u001b[38;5;54m─\u001b[0m\u001b[38;5;54m─\u001b[0m\u001b[38;5;54m─\u001b[0m\u001b[38;5;54m─\u001b[0m\u001b[38;5;54m─\u001b[0m must implement `Mul<_>`",
      " \u001b[38;5;246m  ·\u001b[0m ",
      " \u001b[38;5;246m  ·\u001b[0m \u001b[38;5;115mNote\u001b[0m: Vector3d{float}error: cannot multiply `Vector3d` by `{float}`note: the trait `Mul` must be implemented",
      "\u001b[38;5;246m───╯\u001b[0m"
     ]
    },
    {
     "ename": "Error",
     "evalue": "cannot multiply `Vector3d` by `Vector3d`",
     "output_type": "error",
     "traceback": [
      "\u001b[31m[E0369] Error:\u001b[0m cannot multiply `Vector3d` by `Vector3d`",
      "   \u001b[38;5;246m╭\u001b[0m\u001b[38;5;246m─\u001b[0m\u001b[38;5;246m[\u001b[0mcommand_19:1:1\u001b[38;5;246m]\u001b[0m",
      "   \u001b[38;5;246m│\u001b[0m",
      " \u001b[38;5;246m4 │\u001b[0m \u001b[38;5;54ms\u001b[0m\u001b[38;5;54mt\u001b[0m\u001b[38;5;54mr\u001b[0m\u001b[38;5;54mu\u001b[0m\u001b[38;5;54mc\u001b[0m\u001b[38;5;54mt\u001b[0m\u001b[38;5;54m \u001b[0m\u001b[38;5;54mV\u001b[0m\u001b[38;5;54me\u001b[0m\u001b[38;5;54mc\u001b[0m\u001b[38;5;54mt\u001b[0m\u001b[38;5;54mo\u001b[0m\u001b[38;5;54mr\u001b[0m\u001b[38;5;54m3\u001b[0m\u001b[38;5;54md\u001b[0m\u001b[38;5;249m \u001b[0m\u001b[38;5;249m{\u001b[0m",
      " \u001b[38;5;246m  ·\u001b[0m \u001b[38;5;54m─\u001b[0m\u001b[38;5;54m─\u001b[0m\u001b[38;5;54m─\u001b[0m\u001b[38;5;54m─\u001b[0m\u001b[38;5;54m─\u001b[0m\u001b[38;5;54m─\u001b[0m\u001b[38;5;54m─\u001b[0m\u001b[38;5;54m┬\u001b[0m\u001b[38;5;54m─\u001b[0m\u001b[38;5;54m─\u001b[0m\u001b[38;5;54m─\u001b[0m\u001b[38;5;54m─\u001b[0m\u001b[38;5;54m─\u001b[0m\u001b[38;5;54m─\u001b[0m\u001b[38;5;54m─\u001b[0m  ",
      " \u001b[38;5;246m  ·\u001b[0m        \u001b[38;5;54m╰\u001b[0m\u001b[38;5;54m─\u001b[0m\u001b[38;5;54m─\u001b[0m\u001b[38;5;54m─\u001b[0m\u001b[38;5;54m─\u001b[0m\u001b[38;5;54m─\u001b[0m\u001b[38;5;54m─\u001b[0m\u001b[38;5;54m─\u001b[0m\u001b[38;5;54m─\u001b[0m\u001b[38;5;54m─\u001b[0m must implement `Mul<_>`",
      " \u001b[38;5;246m  ·\u001b[0m ",
      " \u001b[38;5;246m  ·\u001b[0m \u001b[38;5;115mNote\u001b[0m: Vector3dVector3derror: cannot multiply `Vector3d` by `Vector3d`note: the trait `Mul` must be implemented",
      "\u001b[38;5;246m───╯\u001b[0m"
     ]
    },
    {
     "ename": "Error",
     "evalue": "cannot divide `Vector3d` by `{float}`",
     "output_type": "error",
     "traceback": [
      "\u001b[31m[E0369] Error:\u001b[0m cannot divide `Vector3d` by `{float}`",
      "   \u001b[38;5;246m╭\u001b[0m\u001b[38;5;246m─\u001b[0m\u001b[38;5;246m[\u001b[0mcommand_19:1:1\u001b[38;5;246m]\u001b[0m",
      "   \u001b[38;5;246m│\u001b[0m",
      " \u001b[38;5;246m4 │\u001b[0m \u001b[38;5;54ms\u001b[0m\u001b[38;5;54mt\u001b[0m\u001b[38;5;54mr\u001b[0m\u001b[38;5;54mu\u001b[0m\u001b[38;5;54mc\u001b[0m\u001b[38;5;54mt\u001b[0m\u001b[38;5;54m \u001b[0m\u001b[38;5;54mV\u001b[0m\u001b[38;5;54me\u001b[0m\u001b[38;5;54mc\u001b[0m\u001b[38;5;54mt\u001b[0m\u001b[38;5;54mo\u001b[0m\u001b[38;5;54mr\u001b[0m\u001b[38;5;54m3\u001b[0m\u001b[38;5;54md\u001b[0m\u001b[38;5;249m \u001b[0m\u001b[38;5;249m{\u001b[0m",
      " \u001b[38;5;246m  ·\u001b[0m \u001b[38;5;54m─\u001b[0m\u001b[38;5;54m─\u001b[0m\u001b[38;5;54m─\u001b[0m\u001b[38;5;54m─\u001b[0m\u001b[38;5;54m─\u001b[0m\u001b[38;5;54m─\u001b[0m\u001b[38;5;54m─\u001b[0m\u001b[38;5;54m┬\u001b[0m\u001b[38;5;54m─\u001b[0m\u001b[38;5;54m─\u001b[0m\u001b[38;5;54m─\u001b[0m\u001b[38;5;54m─\u001b[0m\u001b[38;5;54m─\u001b[0m\u001b[38;5;54m─\u001b[0m\u001b[38;5;54m─\u001b[0m  ",
      " \u001b[38;5;246m  ·\u001b[0m        \u001b[38;5;54m╰\u001b[0m\u001b[38;5;54m─\u001b[0m\u001b[38;5;54m─\u001b[0m\u001b[38;5;54m─\u001b[0m\u001b[38;5;54m─\u001b[0m\u001b[38;5;54m─\u001b[0m\u001b[38;5;54m─\u001b[0m\u001b[38;5;54m─\u001b[0m\u001b[38;5;54m─\u001b[0m\u001b[38;5;54m─\u001b[0m must implement `Div<_>`",
      " \u001b[38;5;246m  ·\u001b[0m ",
      " \u001b[38;5;246m  ·\u001b[0m \u001b[38;5;115mNote\u001b[0m: Vector3d{float}error: cannot divide `Vector3d` by `{float}`note: the trait `Div` must be implemented",
      "\u001b[38;5;246m───╯\u001b[0m"
     ]
    },
    {
     "ename": "Error",
     "evalue": "cannot divide `Vector3d` by `Vector3d`",
     "output_type": "error",
     "traceback": [
      "\u001b[31m[E0369] Error:\u001b[0m cannot divide `Vector3d` by `Vector3d`",
      "   \u001b[38;5;246m╭\u001b[0m\u001b[38;5;246m─\u001b[0m\u001b[38;5;246m[\u001b[0mcommand_19:1:1\u001b[38;5;246m]\u001b[0m",
      "   \u001b[38;5;246m│\u001b[0m",
      " \u001b[38;5;246m4 │\u001b[0m \u001b[38;5;54ms\u001b[0m\u001b[38;5;54mt\u001b[0m\u001b[38;5;54mr\u001b[0m\u001b[38;5;54mu\u001b[0m\u001b[38;5;54mc\u001b[0m\u001b[38;5;54mt\u001b[0m\u001b[38;5;54m \u001b[0m\u001b[38;5;54mV\u001b[0m\u001b[38;5;54me\u001b[0m\u001b[38;5;54mc\u001b[0m\u001b[38;5;54mt\u001b[0m\u001b[38;5;54mo\u001b[0m\u001b[38;5;54mr\u001b[0m\u001b[38;5;54m3\u001b[0m\u001b[38;5;54md\u001b[0m\u001b[38;5;249m \u001b[0m\u001b[38;5;249m{\u001b[0m",
      " \u001b[38;5;246m  ·\u001b[0m \u001b[38;5;54m─\u001b[0m\u001b[38;5;54m─\u001b[0m\u001b[38;5;54m─\u001b[0m\u001b[38;5;54m─\u001b[0m\u001b[38;5;54m─\u001b[0m\u001b[38;5;54m─\u001b[0m\u001b[38;5;54m─\u001b[0m\u001b[38;5;54m┬\u001b[0m\u001b[38;5;54m─\u001b[0m\u001b[38;5;54m─\u001b[0m\u001b[38;5;54m─\u001b[0m\u001b[38;5;54m─\u001b[0m\u001b[38;5;54m─\u001b[0m\u001b[38;5;54m─\u001b[0m\u001b[38;5;54m─\u001b[0m  ",
      " \u001b[38;5;246m  ·\u001b[0m        \u001b[38;5;54m╰\u001b[0m\u001b[38;5;54m─\u001b[0m\u001b[38;5;54m─\u001b[0m\u001b[38;5;54m─\u001b[0m\u001b[38;5;54m─\u001b[0m\u001b[38;5;54m─\u001b[0m\u001b[38;5;54m─\u001b[0m\u001b[38;5;54m─\u001b[0m\u001b[38;5;54m─\u001b[0m\u001b[38;5;54m─\u001b[0m must implement `Div<_>`",
      " \u001b[38;5;246m  ·\u001b[0m ",
      " \u001b[38;5;246m  ·\u001b[0m \u001b[38;5;115mNote\u001b[0m: Vector3dVector3derror: cannot divide `Vector3d` by `Vector3d`note: the trait `Div` must be implemented",
      "\u001b[38;5;246m───╯\u001b[0m"
     ]
    },
    {
     "ename": "Error",
     "evalue": "no method named `cross` found for struct `Vector3d` in the current scope",
     "output_type": "error",
     "traceback": [
      "\u001b[31m[E0599] Error:\u001b[0m no method named `cross` found for struct `Vector3d` in the current scope",
      "   \u001b[38;5;246m╭\u001b[0m\u001b[38;5;246m─\u001b[0m\u001b[38;5;246m[\u001b[0mcommand_19:1:1\u001b[38;5;246m]\u001b[0m",
      "   \u001b[38;5;246m│\u001b[0m",
      " \u001b[38;5;246m4 │\u001b[0m \u001b[38;5;54ms\u001b[0m\u001b[38;5;54mt\u001b[0m\u001b[38;5;54mr\u001b[0m\u001b[38;5;54mu\u001b[0m\u001b[38;5;54mc\u001b[0m\u001b[38;5;54mt\u001b[0m\u001b[38;5;54m \u001b[0m\u001b[38;5;54mV\u001b[0m\u001b[38;5;54me\u001b[0m\u001b[38;5;54mc\u001b[0m\u001b[38;5;54mt\u001b[0m\u001b[38;5;54mo\u001b[0m\u001b[38;5;54mr\u001b[0m\u001b[38;5;54m3\u001b[0m\u001b[38;5;54md\u001b[0m\u001b[38;5;249m \u001b[0m\u001b[38;5;249m{\u001b[0m",
      " \u001b[38;5;246m  ·\u001b[0m \u001b[38;5;54m─\u001b[0m\u001b[38;5;54m─\u001b[0m\u001b[38;5;54m─\u001b[0m\u001b[38;5;54m─\u001b[0m\u001b[38;5;54m─\u001b[0m\u001b[38;5;54m─\u001b[0m\u001b[38;5;54m─\u001b[0m\u001b[38;5;54m┬\u001b[0m\u001b[38;5;54m─\u001b[0m\u001b[38;5;54m─\u001b[0m\u001b[38;5;54m─\u001b[0m\u001b[38;5;54m─\u001b[0m\u001b[38;5;54m─\u001b[0m\u001b[38;5;54m─\u001b[0m\u001b[38;5;54m─\u001b[0m  ",
      " \u001b[38;5;246m  ·\u001b[0m        \u001b[38;5;54m╰\u001b[0m\u001b[38;5;54m─\u001b[0m\u001b[38;5;54m─\u001b[0m\u001b[38;5;54m─\u001b[0m\u001b[38;5;54m─\u001b[0m\u001b[38;5;54m─\u001b[0m\u001b[38;5;54m─\u001b[0m\u001b[38;5;54m─\u001b[0m\u001b[38;5;54m─\u001b[0m\u001b[38;5;54m─\u001b[0m method `cross` not found for this struct",
      "\u001b[38;5;246m───╯\u001b[0m"
     ]
    }
   ],
   "source": [
    "use std::ops::{Add, Sub, Mul, Div};\n",
    "\n",
    "#[derive(Debug, Clone, Copy)]\n",
    "struct Vector3d {\n",
    "    x: f64,\n",
    "    y: f64,\n",
    "    z: f64,\n",
    "}\n",
    "\n",
    "impl Add for Vector3d {\n",
    "    type Output = Vector3d;\n",
    "\n",
    "    fn add(self, other: Vector3d) -> Vector3d {\n",
    "        Vector3d {\n",
    "            x: self.x + other.x,\n",
    "            y: self.y + other.y,\n",
    "            z: self.z + other.z,\n",
    "        }\n",
    "    }\n",
    "}\n",
    "\n",
    "impl Sub for Vector3d {\n",
    "    type Output = Vector3d;\n",
    "\n",
    "    fn sub(self, other: Vector3d) -> Vector3d {\n",
    "        Vector3d {\n",
    "            x: self.x - other.x,\n",
    "            y: self.y - other.y,\n",
    "            z: self.z - other.z,\n",
    "        }\n",
    "    }\n",
    "}"
   ]
  },
  {
   "cell_type": "code",
   "execution_count": 20,
   "id": "439c3294",
   "metadata": {
    "ExecuteTime": {
     "end_time": "2023-05-09T18:05:21.422701Z",
     "start_time": "2023-05-09T18:05:10.251Z"
    }
   },
   "outputs": [
    {
     "name": "stdout",
     "output_type": "stream",
     "text": [
      "v1 + v2: Vector3d { x: 5.0, y: 7.0, z: 9.0 }\n",
      "v1 - v2: Vector3d { x: -3.0, y: -3.0, z: -3.0 }\n"
     ]
    },
    {
     "data": {
      "text/plain": [
       "()"
      ]
     },
     "execution_count": 20,
     "metadata": {},
     "output_type": "execute_result"
    }
   ],
   "source": [
    "fn ex_dynamic_poly(){\n",
    "    \n",
    "    let v1 = Vector3d { x: 1.0, y: 2.0, z: 3.0 };\n",
    "    let v2 = Vector3d { x: 4.0, y: 5.0, z: 6.0 };\n",
    "\n",
    "    println!(\"v1 + v2: {:?}\", v1 + v2);\n",
    "    println!(\"v1 - v2: {:?}\", v1 - v2);\n",
    "    \n",
    "}\n",
    "ex_dynamic_poly()"
   ]
  },
  {
   "cell_type": "markdown",
   "id": "deb44ce4",
   "metadata": {},
   "source": [
    "### Static"
   ]
  },
  {
   "cell_type": "markdown",
   "id": "b98430b2",
   "metadata": {},
   "source": [
    "Static polymorphism, also known as compile-time polymorphism, is achieved through the use of generics. Generic types allow code to be written in a way that can handle multiple types, making the code more reusable.\n",
    "The following code adds the second type Sphericalector3d and the operators Add, Sub, Mul, and Div."
   ]
  },
  {
   "cell_type": "code",
   "execution_count": 21,
   "id": "61218bdb",
   "metadata": {
    "ExecuteTime": {
     "end_time": "2023-05-09T18:05:22.347892Z",
     "start_time": "2023-05-09T18:05:10.254Z"
    }
   },
   "outputs": [
    {
     "name": "stdout",
     "output_type": "stream",
     "text": [
      "s3 = SphericalVector3d(5, 14, 16)\n"
     ]
    },
    {
     "data": {
      "text/plain": [
       "()"
      ]
     },
     "execution_count": 21,
     "metadata": {},
     "output_type": "execute_result"
    }
   ],
   "source": [
    "use std::ops::{Add, Sub, Mul, Div};\n",
    "use std::fmt;\n",
    "\n",
    "#[derive(Clone, Copy)]\n",
    "struct SphericalVector3d {\n",
    "    r: f64,\n",
    "    theta: f64,\n",
    "    phi: f64,\n",
    "}\n",
    "\n",
    "impl Add for SphericalVector3d {\n",
    "    type Output = SphericalVector3d;\n",
    "\n",
    "    fn add(self, other: SphericalVector3d) -> SphericalVector3d {\n",
    "        SphericalVector3d {\n",
    "            r: self.r + other.r,\n",
    "            theta: self.theta + other.theta,\n",
    "            phi: self.phi + other.phi,\n",
    "        }\n",
    "    }\n",
    "}\n",
    "\n",
    "impl Sub for SphericalVector3d {\n",
    "    type Output = SphericalVector3d;\n",
    "\n",
    "    fn sub(self, other: SphericalVector3d) -> SphericalVector3d {\n",
    "        SphericalVector3d {\n",
    "            r: self.r - other.r,\n",
    "            theta: self.theta - other.theta,\n",
    "            phi: self.phi - other.phi,\n",
    "        }\n",
    "    }\n",
    "}\n",
    "\n",
    "impl Mul<f64> for SphericalVector3d {\n",
    "    type Output = SphericalVector3d;\n",
    "\n",
    "    fn mul(self, scalar: f64) -> SphericalVector3d {\n",
    "        SphericalVector3d {\n",
    "            r: self.r * scalar,\n",
    "            theta: self.theta * scalar,\n",
    "            phi: self.phi * scalar,\n",
    "        }\n",
    "    }\n",
    "}\n",
    "\n",
    "impl Div<f64> for SphericalVector3d {\n",
    "    type Output = SphericalVector3d;\n",
    "\n",
    "    fn div(self, scalar: f64) -> SphericalVector3d {\n",
    "        SphericalVector3d {\n",
    "            r: self.r / scalar,\n",
    "            theta: self.theta / scalar,\n",
    "            phi: self.phi / scalar,\n",
    "        }\n",
    "    }\n",
    "}\n",
    "impl fmt::Display for SphericalVector3d {\n",
    "    fn fmt(&self, f: &mut fmt::Formatter) -> fmt::Result {\n",
    "        write!(f, \"SphericalVector3d({}, {}, {})\", self.r, self.theta, self.phi)\n",
    "    }\n",
    "}\n",
    "\n",
    "impl fmt::Debug for SphericalVector3d {\n",
    "    fn fmt(&self, f: &mut fmt::Formatter<'_>) -> fmt::Result {\n",
    "        write!(f, \"SphericalVector3d({}, {}, {})\", self.r, self.theta, self.phi)\n",
    "    }\n",
    "}\n",
    "\n",
    "fn staticPoly() {\n",
    "    let s1 = SphericalVector3d { r: 1.0, theta: 2.0, phi: 3.0 };\n",
    "    let s2 = SphericalVector3d { r: 4.0,  theta: 12.0, phi: 13.0 };\n",
    "    \n",
    "    let s3 = s1 + s2;\n",
    "\n",
    "    println!(\"s3 = {}\", s3);\n",
    "}\n",
    "staticPoly()"
   ]
  }
 ],
 "metadata": {
  "hide_input": false,
  "kernelspec": {
   "display_name": "Rust",
   "language": "rust",
   "name": "rust"
  },
  "language_info": {
   "codemirror_mode": "rust",
   "file_extension": ".rs",
   "mimetype": "text/rust",
   "name": "Rust",
   "pygment_lexer": "rust",
   "version": ""
  },
  "toc": {
   "base_numbering": 1,
   "nav_menu": {},
   "number_sections": true,
   "sideBar": true,
   "skip_h1_title": false,
   "title_cell": "Table of Contents",
   "title_sidebar": "Contents",
   "toc_cell": false,
   "toc_position": {
    "height": "calc(100% - 180px)",
    "left": "10px",
    "top": "150px",
    "width": "237.797px"
   },
   "toc_section_display": true,
   "toc_window_display": true
  }
 },
 "nbformat": 4,
 "nbformat_minor": 5
}
