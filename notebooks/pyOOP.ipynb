{
 "cells": [
  {
   "cell_type": "markdown",
   "id": "52fdd542",
   "metadata": {},
   "source": [
    "# Header misc"
   ]
  },
  {
   "cell_type": "code",
   "execution_count": 1,
   "id": "6d2ba131",
   "metadata": {
    "ExecuteTime": {
     "end_time": "2023-05-03T20:12:25.737400Z",
     "start_time": "2023-05-03T20:12:25.488626Z"
    }
   },
   "outputs": [
    {
     "name": "stdout",
     "output_type": "stream",
     "text": [
      "Python 3.9.12\r\n"
     ]
    }
   ],
   "source": [
    "!python --version"
   ]
  },
  {
   "cell_type": "code",
   "execution_count": 6,
   "id": "2c5a60e9",
   "metadata": {
    "ExecuteTime": {
     "end_time": "2023-04-29T23:34:58.452770Z",
     "start_time": "2023-04-29T23:34:57.144366Z"
    }
   },
   "outputs": [
    {
     "name": "stdout",
     "output_type": "stream",
     "text": [
      "Package                Version\r\n",
      "---------------------- -----------\r\n",
      "altair                 4.2.2\r\n",
      "attrs                  23.1.0\r\n",
      "blinker                1.6.2\r\n",
      "cachetools             5.3.0\r\n",
      "certifi                2022.12.7\r\n",
      "charset-normalizer     3.1.0\r\n",
      "click                  8.1.3\r\n",
      "contourpy              1.0.7\r\n",
      "cycler                 0.11.0\r\n",
      "decorator              5.1.1\r\n",
      "entrypoints            0.4\r\n",
      "fonttools              4.38.0\r\n",
      "gitdb                  4.0.10\r\n",
      "GitPython              3.1.31\r\n",
      "idna                   3.4\r\n",
      "imageio                2.25.1\r\n",
      "importlib-metadata     6.6.0\r\n",
      "Jinja2                 3.1.2\r\n",
      "jsonschema             4.17.3\r\n",
      "kiwisolver             1.4.4\r\n",
      "markdown-it-py         2.2.0\r\n",
      "MarkupSafe             2.1.2\r\n",
      "matplotlib             3.7.0\r\n",
      "mdurl                  0.1.2\r\n",
      "numpy                  1.24.2\r\n",
      "opencv-python-headless 4.7.0.72\r\n",
      "packaging              23.0\r\n",
      "pandas                 2.0.1\r\n",
      "Pillow                 9.4.0\r\n",
      "pip                    23.1.2\r\n",
      "protobuf               3.20.3\r\n",
      "pyarrow                11.0.0\r\n",
      "pydeck                 0.8.1b0\r\n",
      "Pygments               2.15.1\r\n",
      "Pympler                1.0.1\r\n",
      "pyparsing              3.0.9\r\n",
      "pyrsistent             0.19.3\r\n",
      "python-dateutil        2.8.2\r\n",
      "pytz                   2023.3\r\n",
      "pytz-deprecation-shim  0.1.0.post0\r\n",
      "requests               2.29.0\r\n",
      "rich                   13.3.5\r\n",
      "setuptools             65.5.0\r\n",
      "shape                  0.1.1\r\n",
      "shapely                2.0.1\r\n",
      "simplejson             3.18.1\r\n",
      "six                    1.16.0\r\n",
      "smmap                  5.0.0\r\n",
      "tenacity               8.2.2\r\n",
      "toml                   0.10.2\r\n",
      "toolz                  0.12.0\r\n",
      "tornado                6.3.1\r\n",
      "typing_extensions      4.5.0\r\n",
      "tzdata                 2023.3\r\n",
      "tzlocal                4.3\r\n",
      "urllib3                1.26.15\r\n",
      "validators             0.20.0\r\n",
      "zipp                   3.15.0\r\n"
     ]
    }
   ],
   "source": [
    "!pip list"
   ]
  },
  {
   "cell_type": "code",
   "execution_count": 5,
   "id": "b229527c",
   "metadata": {
    "ExecuteTime": {
     "end_time": "2023-04-29T23:29:23.637381Z",
     "start_time": "2023-04-29T23:29:23.632418Z"
    }
   },
   "outputs": [],
   "source": [
    "import zipp"
   ]
  },
  {
   "cell_type": "code",
   "execution_count": 2,
   "id": "d823d637",
   "metadata": {
    "ExecuteTime": {
     "end_time": "2023-04-29T23:28:36.428652Z",
     "start_time": "2023-04-29T23:28:36.424358Z"
    }
   },
   "outputs": [],
   "source": [
    "# outout each line in notebook. \n",
    "#Sorry, I have not figured out hw to do this for rust notebook.\n",
    "from IPython.core.interactiveshell import InteractiveShell\n",
    "InteractiveShell.ast_node_interactivity = \"all\"\n",
    "# InteractiveShell.ast_node_interactivity = \"last_expr\"\"\n"
   ]
  },
  {
   "cell_type": "markdown",
   "id": "8bb44c1a",
   "metadata": {},
   "source": [
    "# OOP"
   ]
  },
  {
   "cell_type": "markdown",
   "id": "f5fc99fa",
   "metadata": {
    "heading_collapsed": true
   },
   "source": [
    "## Classes, instance"
   ]
  },
  {
   "cell_type": "markdown",
   "id": "502798b1",
   "metadata": {
    "hidden": true
   },
   "source": [
    "python code for a 3D vector class in linear coordinates. The operators -, +, etc will appear later"
   ]
  },
  {
   "cell_type": "code",
   "execution_count": 3,
   "id": "84293290",
   "metadata": {
    "ExecuteTime": {
     "end_time": "2023-04-29T23:28:42.561656Z",
     "start_time": "2023-04-29T23:28:42.551817Z"
    },
    "hidden": true
   },
   "outputs": [],
   "source": [
    "import math\n",
    "\n",
    "class Vector3D_1:\n",
    "    \"\"\"A three-dimensional vector with Cartesian coordinates.\"\"\"\n",
    "\n",
    "    def __init__(self, x, y, z):\n",
    "        \"\"\"Initializes the vector with the given coordinates.\"\"\"\n",
    "        self.x = x\n",
    "        self.y = y\n",
    "        self.z = z\n",
    "\n",
    "    def __str__(self):\n",
    "        \"\"\"Returns a human-readable string representation of the vector.\"\"\"\n",
    "        return \"({}, {}, {})\".format(self.x, self.y, self.z)\n",
    "\n",
    "    def __repr__(self):\n",
    "        \"\"\"Returns an unambiguous string representation of the vector.\"\"\"\n",
    "        return \"Vector3D({}, {}, {})\".format(self.x, self.y, self.z)\n",
    "\n",
    "\n",
    "    def magnitude(self):\n",
    "        \"\"\"Returns the magnitude of the vector.\"\"\"\n",
    "        return math.sqrt(self.x ** 2 + self.y ** 2 + self.z ** 2)\n",
    "\n",
    "    def normalize(self):\n",
    "        \"\"\"Returns a normalized version of the vector.\"\"\"\n",
    "        return self / self.magnitude()\n",
    "\n",
    "    def angle(self, other):\n",
    "        \"\"\"Returns the angle between the vector and the given vector in radians.\"\"\"\n",
    "        return math.acos(self.dot(other) / (self.magnitude() * other.magnitude()))\n",
    "\n"
   ]
  },
  {
   "cell_type": "markdown",
   "id": "6fb3564d",
   "metadata": {
    "hidden": true
   },
   "source": [
    "Python does not require explicit type annotations or operator traits, but we can still use type hints to clarify the expected types of function arguments and return values. The __repr__ method is used to specify how the vector should be represented as a string when it is printed or displayed. Finally, Python allows for both left-hand and right-hand multiplication of vectors by scalars, so we implement the __rmul__ method to allow scalar-vector multiplication to work in either order."
   ]
  },
  {
   "cell_type": "code",
   "execution_count": 5,
   "id": "5a82b522",
   "metadata": {
    "ExecuteTime": {
     "end_time": "2023-04-29T22:08:12.356710Z",
     "start_time": "2023-04-29T22:08:12.346741Z"
    },
    "hidden": true
   },
   "outputs": [],
   "source": [
    "from typing import Tuple\n",
    "\n",
    "class Vector3D:\n",
    "    \"\"\"A three-dimensional vector.\"\"\"\n",
    "\n",
    "    def __init__(self, x: float, y: float, z: float) -> None:\n",
    "        \"\"\"Initializes the vector with the given coordinates.\"\"\"\n",
    "        self.x: float = x\n",
    "        self.y: float = y\n",
    "        self.z: float = z\n",
    "\n",
    "    def __str__(self) -> str:\n",
    "        \"\"\"Returns a human-readable string representation of the vector.\"\"\"\n",
    "        return \"({}, {}, {})\".format(self.x, self.y, self.z)\n",
    "\n",
    "    def __repr__(self) -> str:\n",
    "        \"\"\"Returns an unambiguous string representation of the vector.\"\"\"\n",
    "        return \"Vector3D({}, {}, {})\".format(self.x, self.y, self.z)\n",
    "\n",
    "\n",
    "    def magnitude(self) -> float:\n",
    "        \"\"\"Returns the magnitude of the vector.\"\"\"\n",
    "        return math.sqrt(self.x ** 2 + self.y ** 2 + self.z ** 2)\n",
    "\n",
    "    def normalize(self) -> 'Vector3D':\n",
    "        \"\"\"Returns a normalized version of the vector.\"\"\"\n",
    "        return self / self.magnitude()\n",
    "\n",
    "    def angle(self, other: 'Vector3D') -> float:\n",
    "        \"\"\"Returns the angle between the vector and the given vector in radians.\"\"\"\n",
    "        return math.acos(self.dot(other) / (self.magnitude() * other.magnitude()))\n"
   ]
  },
  {
   "cell_type": "markdown",
   "id": "ab50acb1",
   "metadata": {
    "hidden": true
   },
   "source": [
    "eval some operations of the vector3D class"
   ]
  },
  {
   "cell_type": "code",
   "execution_count": 6,
   "id": "6b187fe6",
   "metadata": {
    "ExecuteTime": {
     "end_time": "2023-04-29T22:08:17.655547Z",
     "start_time": "2023-04-29T22:08:17.467622Z"
    },
    "hidden": true
   },
   "outputs": [
    {
     "data": {
      "text/plain": [
       "Vector3D(3.3, 3.3, 0)"
      ]
     },
     "execution_count": 6,
     "metadata": {},
     "output_type": "execute_result"
    },
    {
     "data": {
      "text/plain": [
       "Vector3D(33.0, 3.3, 5)"
      ]
     },
     "execution_count": 6,
     "metadata": {},
     "output_type": "execute_result"
    },
    {
     "data": {
      "text/plain": [
       "Vector3D(3.3, 3.3, 50)"
      ]
     },
     "execution_count": 6,
     "metadata": {},
     "output_type": "execute_result"
    },
    {
     "name": "stdout",
     "output_type": "stream",
     "text": [
      "Magnitude of v1: 4.666904755831213\n"
     ]
    },
    {
     "ename": "TypeError",
     "evalue": "unsupported operand type(s) for /: 'Vector3D' and 'float'",
     "output_type": "error",
     "traceback": [
      "\u001b[0;31m---------------------------------------------------------------------------\u001b[0m",
      "\u001b[0;31mTypeError\u001b[0m                                 Traceback (most recent call last)",
      "\u001b[0;32m/var/folders/7s/x40lc7k52vg70w0xtdts0w280000gn/T/ipykernel_6269/2212731422.py\u001b[0m in \u001b[0;36m<module>\u001b[0;34m\u001b[0m\n\u001b[1;32m      8\u001b[0m \u001b[0mprint\u001b[0m\u001b[0;34m(\u001b[0m\u001b[0;34m\"Magnitude of v1:\"\u001b[0m\u001b[0;34m,\u001b[0m \u001b[0mv1\u001b[0m\u001b[0;34m.\u001b[0m\u001b[0mmagnitude\u001b[0m\u001b[0;34m(\u001b[0m\u001b[0;34m)\u001b[0m\u001b[0;34m)\u001b[0m\u001b[0;34m\u001b[0m\u001b[0;34m\u001b[0m\u001b[0m\n\u001b[1;32m      9\u001b[0m \u001b[0;31m# do ahead, i warned you\u001b[0m\u001b[0;34m\u001b[0m\u001b[0;34m\u001b[0m\u001b[0;34m\u001b[0m\u001b[0m\n\u001b[0;32m---> 10\u001b[0;31m \u001b[0mprint\u001b[0m\u001b[0;34m(\u001b[0m\u001b[0;34m\"Normalized v1:\"\u001b[0m\u001b[0;34m,\u001b[0m \u001b[0mv1\u001b[0m\u001b[0;34m.\u001b[0m\u001b[0mnormalize\u001b[0m\u001b[0;34m(\u001b[0m\u001b[0;34m)\u001b[0m\u001b[0;34m)\u001b[0m\u001b[0;34m\u001b[0m\u001b[0;34m\u001b[0m\u001b[0m\n\u001b[0m\u001b[1;32m     11\u001b[0m \u001b[0mprint\u001b[0m\u001b[0;34m(\u001b[0m\u001b[0;34m\"Angle between v1 and v2:\"\u001b[0m\u001b[0;34m,\u001b[0m \u001b[0mv1\u001b[0m\u001b[0;34m.\u001b[0m\u001b[0mangle\u001b[0m\u001b[0;34m(\u001b[0m\u001b[0mv2\u001b[0m\u001b[0;34m)\u001b[0m\u001b[0;34m)\u001b[0m\u001b[0;34m\u001b[0m\u001b[0;34m\u001b[0m\u001b[0m\n",
      "\u001b[0;32m/var/folders/7s/x40lc7k52vg70w0xtdts0w280000gn/T/ipykernel_6269/1306909309.py\u001b[0m in \u001b[0;36mnormalize\u001b[0;34m(self)\u001b[0m\n\u001b[1;32m     25\u001b[0m     \u001b[0;32mdef\u001b[0m \u001b[0mnormalize\u001b[0m\u001b[0;34m(\u001b[0m\u001b[0mself\u001b[0m\u001b[0;34m)\u001b[0m \u001b[0;34m->\u001b[0m \u001b[0;34m'Vector3D'\u001b[0m\u001b[0;34m:\u001b[0m\u001b[0;34m\u001b[0m\u001b[0;34m\u001b[0m\u001b[0m\n\u001b[1;32m     26\u001b[0m         \u001b[0;34m\"\"\"Returns a normalized version of the vector.\"\"\"\u001b[0m\u001b[0;34m\u001b[0m\u001b[0;34m\u001b[0m\u001b[0m\n\u001b[0;32m---> 27\u001b[0;31m         \u001b[0;32mreturn\u001b[0m \u001b[0mself\u001b[0m \u001b[0;34m/\u001b[0m \u001b[0mself\u001b[0m\u001b[0;34m.\u001b[0m\u001b[0mmagnitude\u001b[0m\u001b[0;34m(\u001b[0m\u001b[0;34m)\u001b[0m\u001b[0;34m\u001b[0m\u001b[0;34m\u001b[0m\u001b[0m\n\u001b[0m\u001b[1;32m     28\u001b[0m \u001b[0;34m\u001b[0m\u001b[0m\n\u001b[1;32m     29\u001b[0m     \u001b[0;32mdef\u001b[0m \u001b[0mangle\u001b[0m\u001b[0;34m(\u001b[0m\u001b[0mself\u001b[0m\u001b[0;34m,\u001b[0m \u001b[0mother\u001b[0m\u001b[0;34m:\u001b[0m \u001b[0;34m'Vector3D'\u001b[0m\u001b[0;34m)\u001b[0m \u001b[0;34m->\u001b[0m \u001b[0mfloat\u001b[0m\u001b[0;34m:\u001b[0m\u001b[0;34m\u001b[0m\u001b[0;34m\u001b[0m\u001b[0m\n",
      "\u001b[0;31mTypeError\u001b[0m: unsupported operand type(s) for /: 'Vector3D' and 'float'"
     ]
    }
   ],
   "source": [
    "v1 = Vector3D(3.3, 3.3, 0)\n",
    "v2 =  Vector3D(3.3*10, 3.3, 5)\n",
    "v3 = Vector3D(3.3, 3.3, 50)\n",
    "v1\n",
    "v2\n",
    "v3\n",
    "# b\n",
    "print(\"Magnitude of v1:\", v1.magnitude())\n",
    "# do ahead, i warned you\n",
    "print(\"Normalized v1:\", v1.normalize())\n",
    "print(\"Angle between v1 and v2:\", v1.angle(v2))\n"
   ]
  },
  {
   "cell_type": "markdown",
   "id": "25ca5bdd",
   "metadata": {
    "ExecuteTime": {
     "end_time": "2023-04-23T13:40:18.206702Z",
     "start_time": "2023-04-23T13:40:18.201205Z"
    },
    "hidden": true
   },
   "source": [
    "It appears that 'Vector3D' object has no attribute(method) 'dot'. I will fix that later."
   ]
  },
  {
   "cell_type": "markdown",
   "id": "e467f946",
   "metadata": {
    "hidden": true
   },
   "source": [
    " ## inheritance"
   ]
  },
  {
   "cell_type": "markdown",
   "id": "b79c349d",
   "metadata": {
    "hidden": true
   },
   "source": [
    "the Python code for a PolarVector3d class which is a child class of the type annotated Vector3D:"
   ]
  },
  {
   "cell_type": "markdown",
   "id": "dbf9e7aa",
   "metadata": {
    "hidden": true
   },
   "source": [
    "PolarVector child class that inherits from the Vector parent class in Python:"
   ]
  },
  {
   "cell_type": "code",
   "execution_count": 7,
   "id": "71545746",
   "metadata": {
    "ExecuteTime": {
     "end_time": "2023-04-29T22:08:50.391360Z",
     "start_time": "2023-04-29T22:08:50.386577Z"
    },
    "hidden": true
   },
   "outputs": [],
   "source": [
    "class PolarVector3D(Vector3D):\n",
    "    \"\"\"A three-dimensional vector with polar coordinates.\"\"\"\n",
    "\n",
    "    def __init__(self, r: float, theta: float, phi: float) -> None:\n",
    "        self.r: float = r\n",
    "        self.theta: float = theta\n",
    "        self.phi: float = phi"
   ]
  },
  {
   "cell_type": "markdown",
   "id": "198fff31",
   "metadata": {
    "hidden": true
   },
   "source": [
    "longer, don't be lazy"
   ]
  },
  {
   "cell_type": "code",
   "execution_count": 8,
   "id": "28749283",
   "metadata": {
    "ExecuteTime": {
     "end_time": "2023-04-29T22:08:55.003885Z",
     "start_time": "2023-04-29T22:08:54.995230Z"
    },
    "hidden": true
   },
   "outputs": [],
   "source": [
    "import math\n",
    "\n",
    "class PolarVector3D(Vector3D):\n",
    "    \"\"\"A three-dimensional vector with polar coordinates.\"\"\"\n",
    "    def __init__(self, r: float, theta: float, phi: float) -> None:\n",
    "        self.r: float = r\n",
    "        self.theta: float = theta\n",
    "        self.phi: float = phi\n",
    "\n",
    "        x: float = r * math.sin(phi) * math.cos(theta)\n",
    "        y: float = r * math.sin(phi) * math.sin(theta)\n",
    "        z: float = r * math.cos(phi)\n",
    "        \n",
    "        super().__init__(x, y, z)\n",
    "        \n",
    "    def __repr__(self):\n",
    "        return f\"PolarVector(r={self.r}, theta={self.theta}, phi={self.phi})\"\n",
    "\n",
    "    def __str__(self):\n",
    "        return f\"PolarVector(r={self.r}, theta={self.theta}, phi={self.phi})\"\n",
    "\n",
    "    def to_cartesian(self):\n",
    "        return Vector3D(self.x, self.y, self.z)"
   ]
  },
  {
   "cell_type": "markdown",
   "id": "a93febee",
   "metadata": {
    "hidden": true
   },
   "source": [
    "Use the PolarVector class,"
   ]
  },
  {
   "cell_type": "code",
   "execution_count": 9,
   "id": "fe09896b",
   "metadata": {
    "ExecuteTime": {
     "end_time": "2023-04-23T16:56:27.982163Z",
     "start_time": "2023-04-23T16:56:27.951777Z"
    },
    "hidden": true
   },
   "outputs": [
    {
     "data": {
      "text/plain": [
       "PolarVector(r=5, theta=0.7853981633974483, phi=0.7853981633974483)"
      ]
     },
     "execution_count": 9,
     "metadata": {},
     "output_type": "execute_result"
    },
    {
     "name": "stdout",
     "output_type": "stream",
     "text": [
      "Cartesian representation: (2.5, 2.4999999999999996, 3.5355339059327378)\n"
     ]
    },
    {
     "data": {
      "text/plain": [
       "PolarVector(r=1, theta=0.7853981633974483, phi=0.7853981633974483)"
      ]
     },
     "execution_count": 9,
     "metadata": {},
     "output_type": "execute_result"
    },
    {
     "data": {
      "text/plain": [
       "PolarVector(r=5, theta=0.7853981633974483, phi=0.6283185307179586)"
      ]
     },
     "execution_count": 9,
     "metadata": {},
     "output_type": "execute_result"
    },
    {
     "data": {
      "text/plain": [
       "PolarVector(r=15, theta=0.7853981633974483, phi=0.5235987755982988)"
      ]
     },
     "execution_count": 9,
     "metadata": {},
     "output_type": "execute_result"
    },
    {
     "name": "stdout",
     "output_type": "stream",
     "text": [
      "Magnitude of v1: 1.0\n"
     ]
    },
    {
     "ename": "AttributeError",
     "evalue": "'PolarVector3D' object has no attribute 'dot'",
     "output_type": "error",
     "traceback": [
      "\u001b[0;31m---------------------------------------------------------------------------\u001b[0m",
      "\u001b[0;31mAttributeError\u001b[0m                            Traceback (most recent call last)",
      "\u001b[0;32m/var/folders/7s/x40lc7k52vg70w0xtdts0w280000gn/T/ipykernel_8661/2809324293.py\u001b[0m in \u001b[0;36m<module>\u001b[0;34m\u001b[0m\n\u001b[1;32m     12\u001b[0m \u001b[0;31m# we really need operaters, be patient, i will get there\u001b[0m\u001b[0;34m\u001b[0m\u001b[0;34m\u001b[0m\u001b[0;34m\u001b[0m\u001b[0m\n\u001b[1;32m     13\u001b[0m \u001b[0mprint\u001b[0m\u001b[0;34m(\u001b[0m\u001b[0;34m\"Magnitude of v1:\"\u001b[0m\u001b[0;34m,\u001b[0m \u001b[0mv1\u001b[0m\u001b[0;34m.\u001b[0m\u001b[0mmagnitude\u001b[0m\u001b[0;34m(\u001b[0m\u001b[0;34m)\u001b[0m\u001b[0;34m)\u001b[0m\u001b[0;34m\u001b[0m\u001b[0;34m\u001b[0m\u001b[0m\n\u001b[0;32m---> 14\u001b[0;31m \u001b[0mprint\u001b[0m\u001b[0;34m(\u001b[0m\u001b[0;34m\"Angle between v1 and v2:\"\u001b[0m\u001b[0;34m,\u001b[0m \u001b[0mv1\u001b[0m\u001b[0;34m.\u001b[0m\u001b[0mangle\u001b[0m\u001b[0;34m(\u001b[0m\u001b[0mv2\u001b[0m\u001b[0;34m)\u001b[0m\u001b[0;34m)\u001b[0m\u001b[0;34m\u001b[0m\u001b[0;34m\u001b[0m\u001b[0m\n\u001b[0m\u001b[1;32m     15\u001b[0m \u001b[0mprint\u001b[0m\u001b[0;34m(\u001b[0m\u001b[0;34m\"Normalized v1:\"\u001b[0m\u001b[0;34m,\u001b[0m \u001b[0mv1\u001b[0m\u001b[0;34m.\u001b[0m\u001b[0mnormalize\u001b[0m\u001b[0;34m(\u001b[0m\u001b[0;34m)\u001b[0m\u001b[0;34m)\u001b[0m\u001b[0;34m\u001b[0m\u001b[0;34m\u001b[0m\u001b[0m\n",
      "\u001b[0;32m/var/folders/7s/x40lc7k52vg70w0xtdts0w280000gn/T/ipykernel_8661/1306909309.py\u001b[0m in \u001b[0;36mangle\u001b[0;34m(self, other)\u001b[0m\n\u001b[1;32m     29\u001b[0m     \u001b[0;32mdef\u001b[0m \u001b[0mangle\u001b[0m\u001b[0;34m(\u001b[0m\u001b[0mself\u001b[0m\u001b[0;34m,\u001b[0m \u001b[0mother\u001b[0m\u001b[0;34m:\u001b[0m \u001b[0;34m'Vector3D'\u001b[0m\u001b[0;34m)\u001b[0m \u001b[0;34m->\u001b[0m \u001b[0mfloat\u001b[0m\u001b[0;34m:\u001b[0m\u001b[0;34m\u001b[0m\u001b[0;34m\u001b[0m\u001b[0m\n\u001b[1;32m     30\u001b[0m         \u001b[0;34m\"\"\"Returns the angle between the vector and the given vector in radians.\"\"\"\u001b[0m\u001b[0;34m\u001b[0m\u001b[0;34m\u001b[0m\u001b[0m\n\u001b[0;32m---> 31\u001b[0;31m         \u001b[0;32mreturn\u001b[0m \u001b[0mmath\u001b[0m\u001b[0;34m.\u001b[0m\u001b[0macos\u001b[0m\u001b[0;34m(\u001b[0m\u001b[0mself\u001b[0m\u001b[0;34m.\u001b[0m\u001b[0mdot\u001b[0m\u001b[0;34m(\u001b[0m\u001b[0mother\u001b[0m\u001b[0;34m)\u001b[0m \u001b[0;34m/\u001b[0m \u001b[0;34m(\u001b[0m\u001b[0mself\u001b[0m\u001b[0;34m.\u001b[0m\u001b[0mmagnitude\u001b[0m\u001b[0;34m(\u001b[0m\u001b[0;34m)\u001b[0m \u001b[0;34m*\u001b[0m \u001b[0mother\u001b[0m\u001b[0;34m.\u001b[0m\u001b[0mmagnitude\u001b[0m\u001b[0;34m(\u001b[0m\u001b[0;34m)\u001b[0m\u001b[0;34m)\u001b[0m\u001b[0;34m)\u001b[0m\u001b[0;34m\u001b[0m\u001b[0;34m\u001b[0m\u001b[0m\n\u001b[0m",
      "\u001b[0;31mAttributeError\u001b[0m: 'PolarVector3D' object has no attribute 'dot'"
     ]
    }
   ],
   "source": [
    "# Example usage:\n",
    "polar_vector = PolarVector3D(5, math.pi / 4, math.pi / 4)\n",
    "polar_vector\n",
    "print(\"Cartesian representation:\", polar_vector.to_cartesian())\n",
    "v1 = PolarVector3D(1, math.pi / 4, math.pi / 4)\n",
    "v2 =  PolarVector3D(5, math.pi / 4, math.pi / 5)\n",
    "v3 = PolarVector3D(15, math.pi / 4, math.pi / 6)\n",
    "v1\n",
    "v2\n",
    "v3\n",
    "# we really need operaters, be patient, i will get there\n",
    "print(\"Magnitude of v1:\", v1.magnitude())\n",
    "print(\"Angle between v1 and v2:\", v1.angle(v2))\n",
    "print(\"Normalized v1:\", v1.normalize())"
   ]
  },
  {
   "cell_type": "code",
   "execution_count": null,
   "id": "a4abba40",
   "metadata": {
    "hidden": true
   },
   "outputs": [],
   "source": []
  },
  {
   "cell_type": "markdown",
   "id": "598d5a70",
   "metadata": {
    "hidden": true
   },
   "source": [
    "The PolarVector class inherits from the Vector class by specifying Vector as the parent class in the class definition. The __init__ method of PolarVector takes rho, phi, and theta as arguments and computes the x, y, and z coordinates of the vector in Cartesian coordinates using the standard conversion equations. It then calls the __init__ method of the parent class using super().__init__(x, y, z) to initialize the x, y, and z coordinates of the vector.\n",
    "\n",
    "The from_cartesian method is a class method that takes Cartesian coordinates as arguments and returns a PolarVector instance computed using the standard conversion equations. This method is a convenience method that allows you to create a PolarVector instance directly from Cartesian coordinates without having to convert them manually first.\n",
    "\n",
    "Finally, the __repr__ method is overridden to return a string representation of the PolarVector instance using its polar coordinates instead of its Cartesian coordinates."
   ]
  },
  {
   "cell_type": "markdown",
   "id": "c69fe647",
   "metadata": {},
   "source": [
    "## Overloading"
   ]
  },
  {
   "cell_type": "markdown",
   "id": "0d306faa",
   "metadata": {},
   "source": [
    "Python supports operator overloading, which allows you to define custom behavior for built-in operators like +, -, and *. This allows you to define how objects of a particular class should behave when these operators are used on them."
   ]
  },
  {
   "cell_type": "markdown",
   "id": "24f2a756",
   "metadata": {},
   "source": [
    "In this example, we've overloaded the addition (+), subtraction (-), multiplication (*), and division (/) operators for the Vector class. The addition and subtraction operators require another Vector object as the operand, while the multiplication and division operators require a scalar (integer or float) as the operand. The cross product method (cross) takes another Vector object as the operand."
   ]
  },
  {
   "cell_type": "code",
   "execution_count": 9,
   "id": "82e0a786",
   "metadata": {
    "ExecuteTime": {
     "end_time": "2023-04-29T22:09:04.533940Z",
     "start_time": "2023-04-29T22:09:04.514819Z"
    }
   },
   "outputs": [],
   "source": [
    "from typing import Tuple\n",
    "\n",
    "class Vector3D:\n",
    "    \"\"\"A three-dimensional vector.\"\"\"\n",
    "\n",
    "    def __init__(self, x: float, y: float, z: float) -> None:\n",
    "        \"\"\"Initializes the vector with the given coordinates.\"\"\"\n",
    "        self.x: float = x\n",
    "        self.y: float = y\n",
    "        self.z: float = z\n",
    "\n",
    "    def __str__(self) -> str:\n",
    "        \"\"\"Returns a human-readable string representation of the vector.\"\"\"\n",
    "        return \"({}, {}, {})\".format(self.x, self.y, self.z)\n",
    "\n",
    "    def __repr__(self) -> str:\n",
    "        \"\"\"Returns an unambiguous string representation of the vector.\"\"\"\n",
    "        return \"Vector3D({}, {}, {})\".format(self.x, self.y, self.z)\n",
    "\n",
    "    def __add__(self, other: 'Vector3D') -> 'Vector3D':\n",
    "        \"\"\"Returns the sum of the vector and the given vector.\"\"\"\n",
    "        return Vector3D(self.x + other.x, self.y + other.y, self.z + other.z)\n",
    "\n",
    "    def __sub__(self, other: 'Vector3D') -> 'Vector3D':\n",
    "        \"\"\"Returns the difference of the vector and the given vector.\"\"\"\n",
    "        return Vector3D(self.x - other.x, self.y - other.y, self.z - other.z)\n",
    "\n",
    "    def __mul__(self, scalar: float) -> 'Vector3D':\n",
    "        \"\"\"Returns the product of the vector and the given scalar.\"\"\"\n",
    "        return Vector3D(self.x * scalar, self.y * scalar, self.z * scalar)\n",
    "\n",
    "    def __truediv__(self, scalar: float) -> 'Vector3D':\n",
    "        \"\"\"Returns the quotient of the vector and the given scalar.\"\"\"\n",
    "        return Vector3D(self.x / scalar, self.y / scalar, self.z / scalar)\n",
    "\n",
    "    def __neg__(self) -> 'Vector3D':\n",
    "        \"\"\"Returns the negation of the vector.\"\"\"\n",
    "        return Vector3D(-self.x, -self.y, -self.z)\n",
    "\n",
    "    def dot(self, other: 'Vector3D') -> float:\n",
    "        \"\"\"Returns the dot product of the vector and the given vector.\"\"\"\n",
    "        return self.x * other.x + self.y * other.y + self.z * other.z\n",
    "\n",
    "    def cross(self, other: 'Vector3D') -> 'Vector3D':\n",
    "        \"\"\"Returns the cross product of the vector and the given vector.\"\"\"\n",
    "        return Vector3D(self.y * other.z - self.z * other.y,\n",
    "                        self.z * other.x - self.x * other.z,\n",
    "                        self.x * other.y - self.y * other.x)\n",
    "    \n",
    "    def magnitude(self) -> float:\n",
    "        \"\"\"Returns the magnitude of the vector.\"\"\"\n",
    "        return math.sqrt(self.x ** 2 + self.y ** 2 + self.z ** 2)\n",
    "\n",
    "    def normalize(self) -> 'Vector3D':\n",
    "        \"\"\"Returns a normalized version of the vector.\"\"\"\n",
    "        return self / self.magnitude()\n",
    "\n",
    "    def angle(self, other: 'Vector3D') -> float:\n",
    "        \"\"\"Returns the angle between the vector and the given vector in radians.\"\"\"\n",
    "        return math.acos(self.dot(other) / (self.magnitude() * other.magnitude()))\n",
    "\n",
    "\n"
   ]
  },
  {
   "cell_type": "code",
   "execution_count": 10,
   "id": "0417a5d5",
   "metadata": {
    "ExecuteTime": {
     "end_time": "2023-04-29T22:09:15.752756Z",
     "start_time": "2023-04-29T22:09:15.739696Z"
    }
   },
   "outputs": [
    {
     "data": {
      "text/plain": [
       "Vector3D(3.3, 3.3, 0)"
      ]
     },
     "execution_count": 10,
     "metadata": {},
     "output_type": "execute_result"
    },
    {
     "data": {
      "text/plain": [
       "Vector3D(33.0, 3.3, 5)"
      ]
     },
     "execution_count": 10,
     "metadata": {},
     "output_type": "execute_result"
    },
    {
     "data": {
      "text/plain": [
       "Vector3D(3.3, 3.3, 50)"
      ]
     },
     "execution_count": 10,
     "metadata": {},
     "output_type": "execute_result"
    },
    {
     "name": "stdout",
     "output_type": "stream",
     "text": [
      "Magnitude of v1: 4.666904755831213\n",
      "Normalized v1: (0.7071067811865476, 0.7071067811865476, 0.0)\n",
      "Angle between v1 and v2: 0.699275674722005\n"
     ]
    }
   ],
   "source": [
    "v1 = Vector3D(3.3, 3.3, 0)\n",
    "v2 =  Vector3D(3.3*10, 3.3, 5)\n",
    "v3 = Vector3D(3.3, 3.3, 50)\n",
    "v1\n",
    "v2\n",
    "v3\n",
    "# b\n",
    "print(\"Magnitude of v1:\", v1.magnitude())\n",
    "# do ahead, i warned you\n",
    "print(\"Normalized v1:\", v1.normalize())\n",
    "print(\"Angle between v1 and v2:\", v1.angle(v2))\n"
   ]
  },
  {
   "cell_type": "code",
   "execution_count": 11,
   "id": "fa565f15",
   "metadata": {
    "ExecuteTime": {
     "end_time": "2023-04-29T22:09:22.032177Z",
     "start_time": "2023-04-29T22:09:22.026707Z"
    }
   },
   "outputs": [
    {
     "name": "stdout",
     "output_type": "stream",
     "text": [
      "v1 + v2: (36.3, 6.6, 5)\n",
      "v1 - v2: (-29.7, 0.0, -5)\n",
      "v1 * 3: (9.899999999999999, 9.899999999999999, 0)\n",
      "v1 / 2: (1.65, 1.65, 0.0)\n",
      "v1 x v2: (16.5, -16.5, -98.00999999999999)\n"
     ]
    }
   ],
   "source": [
    "print(\"v1 + v2:\", v1 + v2)\n",
    "print(\"v1 - v2:\", v1 - v2)\n",
    "print(\"v1 * 3:\", v1 * 3)\n",
    "print(\"v1 / 2:\", v1 / 2)\n",
    "print(\"v1 x v2:\", v1.cross(v2))"
   ]
  },
  {
   "cell_type": "code",
   "execution_count": 12,
   "id": "581a77bf",
   "metadata": {
    "ExecuteTime": {
     "end_time": "2023-04-29T22:09:27.843458Z",
     "start_time": "2023-04-29T22:09:27.834447Z"
    }
   },
   "outputs": [],
   "source": [
    "#recompile\n",
    "import math\n",
    "\n",
    "class PolarVector3D(Vector3D):\n",
    "    \"\"\"A three-dimensional vector with polar coordinates.\"\"\"\n",
    "    def __init__(self, r: float, theta: float, phi: float) -> None:\n",
    "        self.r: float = r\n",
    "        self.theta: float = theta\n",
    "        self.phi: float = phi\n",
    "\n",
    "        x: float = r * math.sin(phi) * math.cos(theta)\n",
    "        y: float = r * math.sin(phi) * math.sin(theta)\n",
    "        z: float = r * math.cos(phi)\n",
    "        \n",
    "        super().__init__(x, y, z)\n",
    "        \n",
    "    def __repr__(self):\n",
    "        return f\"PolarVector(r={self.r}, theta={self.theta}, phi={self.phi})\"\n",
    "\n",
    "    def __str__(self):\n",
    "        return f\"PolarVector(r={self.r}, theta={self.theta}, phi={self.phi})\"\n",
    "\n",
    "    def to_cartesian(self):\n",
    "        return Vector3D(self.x, self.y, self.z)"
   ]
  },
  {
   "cell_type": "code",
   "execution_count": 14,
   "id": "80e02cc2",
   "metadata": {
    "ExecuteTime": {
     "end_time": "2023-04-23T16:57:00.051188Z",
     "start_time": "2023-04-23T16:57:00.031843Z"
    }
   },
   "outputs": [
    {
     "data": {
      "text/plain": [
       "PolarVector(r=5, theta=0.7853981633974483, phi=0.7853981633974483)"
      ]
     },
     "execution_count": 14,
     "metadata": {},
     "output_type": "execute_result"
    },
    {
     "name": "stdout",
     "output_type": "stream",
     "text": [
      "Cartesian representation: (2.5, 2.4999999999999996, 3.5355339059327378)\n"
     ]
    },
    {
     "data": {
      "text/plain": [
       "PolarVector(r=1, theta=0.7853981633974483, phi=0.7853981633974483)"
      ]
     },
     "execution_count": 14,
     "metadata": {},
     "output_type": "execute_result"
    },
    {
     "data": {
      "text/plain": [
       "PolarVector(r=5, theta=0.7853981633974483, phi=0.6283185307179586)"
      ]
     },
     "execution_count": 14,
     "metadata": {},
     "output_type": "execute_result"
    },
    {
     "data": {
      "text/plain": [
       "PolarVector(r=15, theta=0.7853981633974483, phi=0.5235987755982988)"
      ]
     },
     "execution_count": 14,
     "metadata": {},
     "output_type": "execute_result"
    },
    {
     "name": "stdout",
     "output_type": "stream",
     "text": [
      "Magnitude of v1: 1.0\n",
      "Angle between v1 and v2: 0.15707963267948868\n",
      "Normalized v1: (0.5, 0.4999999999999999, 0.7071067811865476)\n"
     ]
    }
   ],
   "source": [
    "polar_vector = PolarVector3D(5, math.pi / 4, math.pi / 4)\n",
    "polar_vector\n",
    "print(\"Cartesian representation:\", polar_vector.to_cartesian())\n",
    "v1 = PolarVector3D(1, math.pi / 4, math.pi / 4)\n",
    "v2 =  PolarVector3D(5, math.pi / 4, math.pi / 5)\n",
    "v3 = PolarVector3D(15, math.pi / 4, math.pi / 6)\n",
    "v1\n",
    "v2\n",
    "v3\n",
    "\n",
    "# we really need operaters, be patient, i will get there\n",
    "print(\"Magnitude of v1:\", v1.magnitude())\n",
    "print(\"Angle between v1 and v2:\", v1.angle(v2))\n",
    "\n",
    "print(\"Normalized v1:\", v1.normalize())\n"
   ]
  },
  {
   "cell_type": "markdown",
   "id": "6789378c",
   "metadata": {},
   "source": [
    "## Polymorphism"
   ]
  },
  {
   "cell_type": "markdown",
   "id": "29486be8",
   "metadata": {},
   "source": [
    "In Python, the following methods are polymorphic in Vector3D and PolarVector3D:\n",
    "\n",
    "add()\n",
    "sub()\n",
    "mul()\n",
    "truediv()\n",
    "neg()\n",
    "dot()\n",
    "cross()\n",
    "magnitude()\n",
    "normalize()\n",
    "angle()\n",
    "project()\n",
    "reflect()\n",
    "These methods are all defined in the base class Vector3D. They can be overridden in subclasses, such as PolarVector3D. This allows objects of different types to be treated in a similar way, even though they may have different implementations of these methods.\n",
    "\n",
    "For example, the __add__() method can be used to add two vectors together. This method is defined in the base class Vector3D. It can be overridden in subclasses, such as PolarVector3D. This allows objects of different types to be added together, even though they may have different representations of a vector."
   ]
  },
  {
   "cell_type": "markdown",
   "id": "481879d9",
   "metadata": {},
   "source": [
    "Polymorphism in Python allows you to use a common interface for different classes, which makes it easier to swap or combine different implementations. In our example, Vector and PolarVector classes can demonstrate polymorphism by implementing a common method, such as info(), which returns a string representation of the vector in their respective coordinate systems.\n",
    "\n"
   ]
  },
  {
   "cell_type": "markdown",
   "id": "5d63f301",
   "metadata": {},
   "source": [
    "Here's an example of using polymorphism with the Vector and PolarVector classes:"
   ]
  },
  {
   "cell_type": "code",
   "execution_count": 13,
   "id": "c47e0dbb",
   "metadata": {
    "ExecuteTime": {
     "end_time": "2023-04-29T22:09:36.385403Z",
     "start_time": "2023-04-29T22:09:36.378202Z"
    }
   },
   "outputs": [],
   "source": [
    "def info(self):\n",
    "    return f\"Vector in Linear coordinates: {self.__str__()}\"\n",
    "    \n",
    "setattr(Vector3D, \"info\", info)\n",
    "\n",
    "def info(self):\n",
    "    return f\"Vector in Polar coordinates: {self.__str__()}\"\n",
    "    \n",
    "setattr(PolarVector3D, \"info\", info)\n",
    "\n",
    "def display_vector_info(vector):\n",
    "    print(vector.info())\n"
   ]
  },
  {
   "cell_type": "markdown",
   "id": "91fedce0",
   "metadata": {},
   "source": [
    "IMHO, the above is a horrible abuse of Python's flexibility. I show to demostrate a point. Overloading and polymorphism are much better shown with operators add(), sub(), mul(), truediv(), and neg().\n"
   ]
  },
  {
   "cell_type": "code",
   "execution_count": 14,
   "id": "02879b6f",
   "metadata": {
    "ExecuteTime": {
     "end_time": "2023-04-29T22:09:40.575043Z",
     "start_time": "2023-04-29T22:09:40.569791Z"
    }
   },
   "outputs": [
    {
     "name": "stdout",
     "output_type": "stream",
     "text": [
      "Vector in Linear coordinates: (1, 2, 3)\n",
      "Vector in Polar coordinates: PolarVector(r=5, theta=0.7853981633974483, phi=0.7853981633974483)\n"
     ]
    }
   ],
   "source": [
    "# Example usage:\n",
    "v1 = Vector3D(1, 2, 3)\n",
    "polar_v1 = PolarVector3D(5, math.pi / 4, math.pi / 4)\n",
    "\n",
    "display_vector_info(v1)\n",
    "display_vector_info(polar_v1)"
   ]
  },
  {
   "cell_type": "markdown",
   "id": "d7c77bd2",
   "metadata": {},
   "source": [
    "## Encapsulation"
   ]
  },
  {
   "cell_type": "markdown",
   "id": "0a9615d7",
   "metadata": {},
   "source": [
    "Encapsulation in Python means hiding the internal details of a class and exposing only the necessary information and functionalities to the users. In our example, Vector class can demonstrate encapsulation by using private attributes and exposing only the required methods to interact with the objects. "
   ]
  },
  {
   "cell_type": "markdown",
   "id": "cdf64290",
   "metadata": {},
   "source": [
    "Here's the code for the Vector class, demonstrating encapsulation by hiding the internal details of the class and exposing only the necessary information and functionalities. We  add a getter and setter method for the Cartesian and Polar coordinates."
   ]
  },
  {
   "cell_type": "code",
   "execution_count": 15,
   "id": "b7ab65e1",
   "metadata": {
    "ExecuteTime": {
     "end_time": "2023-04-29T22:09:44.871551Z",
     "start_time": "2023-04-29T22:09:44.865977Z"
    }
   },
   "outputs": [],
   "source": [
    "def get_coordinates(self):\n",
    "    return (self.x, self.y, self.z)\n",
    "\n",
    "setattr(Vector3D, \"get_coordinates\", get_coordinates)\n",
    "\n",
    "def set_coordinates(self, x, y, z):\n",
    "    self.x = x\n",
    "    self.y = y\n",
    "    self.z = z\n",
    "\n",
    "setattr(Vector3D, \"set_coordinates\", set_coordinates)"
   ]
  },
  {
   "cell_type": "code",
   "execution_count": 16,
   "id": "7af1b12f",
   "metadata": {
    "ExecuteTime": {
     "end_time": "2023-04-29T22:09:50.351875Z",
     "start_time": "2023-04-29T22:09:50.346079Z"
    }
   },
   "outputs": [
    {
     "name": "stdout",
     "output_type": "stream",
     "text": [
      "(1, 2, 3)\n",
      "Cartesian coordinates of v1: (1, 2, 3)\n",
      "Updated Cartesian coordinates of v1: (4, 5, 6)\n"
     ]
    }
   ],
   "source": [
    "# Example usage:\n",
    "v1 = Vector3D(1, 2, 3)\n",
    "print(v1)\n",
    "\n",
    "print(\"Cartesian coordinates of v1:\", v1.get_coordinates())\n",
    "v1.set_coordinates(4, 5, 6)\n",
    "print(\"Updated Cartesian coordinates of v1:\", v1.get_coordinates())"
   ]
  },
  {
   "cell_type": "markdown",
   "id": "400fd96b",
   "metadata": {},
   "source": [
    "In this encapsulated version of the Vector3D class, I should rename x,y,z to the internal attributes __x, __y, and __z are private, and i should have added getter and setter methods to access and modify the Cartesian coordinates. You the reader can do it if you want. Why you at it, don't forget PolarVector3D."
   ]
  }
 ],
 "metadata": {
  "hide_input": false,
  "kernelspec": {
   "display_name": "Python 3 (ipykernel)",
   "language": "python",
   "name": "python3"
  },
  "language_info": {
   "codemirror_mode": {
    "name": "ipython",
    "version": 3
   },
   "file_extension": ".py",
   "mimetype": "text/x-python",
   "name": "python",
   "nbconvert_exporter": "python",
   "pygments_lexer": "ipython3",
   "version": "3.7.2"
  },
  "toc": {
   "base_numbering": 1,
   "nav_menu": {},
   "number_sections": true,
   "sideBar": true,
   "skip_h1_title": false,
   "title_cell": "Table of Contents",
   "title_sidebar": "Contents",
   "toc_cell": false,
   "toc_position": {
    "height": "calc(100% - 180px)",
    "left": "10px",
    "top": "150px",
    "width": "229.391px"
   },
   "toc_section_display": true,
   "toc_window_display": true
  }
 },
 "nbformat": 4,
 "nbformat_minor": 5
}
